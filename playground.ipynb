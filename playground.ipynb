{
 "cells": [
  {
   "cell_type": "code",
   "execution_count": 1,
   "id": "52134bc0-3ee8-42fc-80d9-575bf905a97c",
   "metadata": {},
   "outputs": [
    {
     "name": "stderr",
     "output_type": "stream",
     "text": [
      "/Users/wayne/miniconda3/envs/lm-watermarking1/lib/python3.11/site-packages/tqdm/auto.py:21: TqdmWarning: IProgress not found. Please update jupyter and ipywidgets. See https://ipywidgets.readthedocs.io/en/stable/user_install.html\n",
      "  from .autonotebook import tqdm as notebook_tqdm\n"
     ]
    }
   ],
   "source": [
    "import os\n",
    "import json\n",
    "\n",
    "from argparse import Namespace\n",
    "import matplotlib.pyplot as plt\n",
    "import numpy as np\n",
    "import torch\n",
    "\n",
    "\n",
    "from bigram_estimator import getWordDict, getNgramDict, pLM\n",
    "from generate_watermark import load_model, generate\n",
    "from likelihood_ratio_test import L_Gw"
   ]
  },
  {
   "cell_type": "code",
   "execution_count": 3,
   "id": "68c3f18a-ff99-475d-a8a1-20736c649882",
   "metadata": {},
   "outputs": [],
   "source": [
    "args = Namespace()\n",
    "\n",
    "arg_dict = {\n",
    "    'run_gradio': False, \n",
    "    'demo_public': False,\n",
    "    'model_name_or_path': 'facebook/opt-125m', \n",
    "    # 'model_name_or_path': 'facebook/opt-1.3b', \n",
    "    # 'model_name_or_path': 'facebook/opt-2.7b', \n",
    "    # 'model_name_or_path': 'facebook/opt-6.7b',\n",
    "    # 'model_name_or_path': 'facebook/opt-13b',\n",
    "    # 'load_fp16' : True,\n",
    "    'load_fp16' : False,\n",
    "    'prompt_max_length': None, \n",
    "    'max_new_tokens': 200, \n",
    "    'generation_seed': 123, \n",
    "    'use_sampling': True, \n",
    "    'n_beams': 1, \n",
    "    'sampling_temp': 0.7, \n",
    "    \n",
    "    # 'use_gpu': True, \n",
    "    'use_gpu': False, \n",
    "    'seeding_scheme': 'simple_1', \n",
    "    'gamma': 0.25, \n",
    "    'delta': 2.0, \n",
    "    'normalizers': '', \n",
    "    'ignore_repeated_bigrams': False, \n",
    "    'detection_z_threshold': 4.0, \n",
    "    'select_green_tokens': True,\n",
    "    'skip_model_load': False,\n",
    "    'seed_separately': True,\n",
    "}\n",
    "\n",
    "args.__dict__.update(arg_dict)\n",
    "\n",
    "args.is_seq2seq_model = any([(model_type in args.model_name_or_path) for model_type in [\"t5\",\"T0\"]])\n",
    "args.is_decoder_only_model = any([(model_type in args.model_name_or_path) for model_type in [\"gpt\",\"opt\",\"bloom\"]])\n"
   ]
  },
  {
   "cell_type": "code",
   "execution_count": 4,
   "id": "16b7dcd8",
   "metadata": {},
   "outputs": [],
   "source": [
    "model, tokenizer, device = load_model(args)"
   ]
  },
  {
   "cell_type": "code",
   "execution_count": 5,
   "id": "f9f9f94c",
   "metadata": {},
   "outputs": [
    {
     "name": "stdout",
     "output_type": "stream",
     "text": [
      "GPT2TokenizerFast(name_or_path='facebook/opt-125m', vocab_size=50265, model_max_length=1000000000000000019884624838656, is_fast=True, padding_side='right', truncation_side='right', special_tokens={'bos_token': AddedToken(\"</s>\", rstrip=False, lstrip=False, single_word=False, normalized=True), 'eos_token': AddedToken(\"</s>\", rstrip=False, lstrip=False, single_word=False, normalized=True), 'unk_token': AddedToken(\"</s>\", rstrip=False, lstrip=False, single_word=False, normalized=True), 'pad_token': AddedToken(\"<pad>\", rstrip=False, lstrip=False, single_word=False, normalized=True)}, clean_up_tokenization_spaces=True)\n"
     ]
    }
   ],
   "source": [
    "print(tokenizer)"
   ]
  },
  {
   "cell_type": "code",
   "execution_count": 5,
   "id": "fae287f8",
   "metadata": {},
   "outputs": [
    {
     "data": {
      "text/plain": [
       "[('hello', (0, 5))]"
      ]
     },
     "execution_count": 5,
     "metadata": {},
     "output_type": "execute_result"
    }
   ],
   "source": [
    "tokenizer.backend_tokenizer.pre_tokenizer.pre_tokenize_str(\"hello\")"
   ]
  },
  {
   "cell_type": "code",
   "execution_count": 23,
   "id": "6edc8887-d4a6-4a3e-82e6-454e2ea21c94",
   "metadata": {},
   "outputs": [
    {
     "name": "stdout",
     "output_type": "stream",
     "text": [
      "Generating with Namespace(run_gradio=False, demo_public=False, model_name_or_path='facebook/opt-125m', load_fp16=False, prompt_max_length=200, max_new_tokens=200, generation_seed=123, use_sampling=True, n_beams=1, sampling_temp=0.7, use_gpu=False, seeding_scheme='simple_1', gamma=0.25, delta=2.0, normalizers='', ignore_repeated_bigrams=False, detection_z_threshold=4.0, select_green_tokens=True, skip_model_load=False, seed_separately=True, is_seq2seq_model=False, is_decoder_only_model=True)\n"
     ]
    }
   ],
   "source": [
    "times = 5 #1000\n",
    "tokd_input, watermark_processor, output, corpus_without_watermark, corpus_with_watermark, _ = generate(\"\",\n",
    "                                                                    args,\n",
    "                                                                    model=model,\n",
    "                                                                    device=device,\n",
    "                                                                    tokenizer=tokenizer,\n",
    "                                                                    times=times)"
   ]
  },
  {
   "cell_type": "markdown",
   "id": "168a5e84",
   "metadata": {},
   "source": [
    "To load whole corpora. Only use when analysing over larger corpora"
   ]
  },
  {
   "cell_type": "code",
   "execution_count": 5,
   "id": "4de07fcd",
   "metadata": {},
   "outputs": [
    {
     "ename": "FileNotFoundError",
     "evalue": "[Errno 2] No such file or directory: '/data/corpora_with_watermark/'",
     "output_type": "error",
     "traceback": [
      "\u001b[0;31m---------------------------------------------------------------------------\u001b[0m",
      "\u001b[0;31mFileNotFoundError\u001b[0m                         Traceback (most recent call last)",
      "Cell \u001b[0;32mIn[5], line 2\u001b[0m\n\u001b[1;32m      1\u001b[0m path_watermarked \u001b[39m=\u001b[39m \u001b[39m'\u001b[39m\u001b[39m/data/corpora_with_watermark/\u001b[39m\u001b[39m'\u001b[39m\n\u001b[0;32m----> 2\u001b[0m json_file_names \u001b[39m=\u001b[39m [filename \u001b[39mfor\u001b[39;00m filename \u001b[39min\u001b[39;00m os\u001b[39m.\u001b[39mlistdir(path_watermarked) \u001b[39mif\u001b[39;00m filename\u001b[39m.\u001b[39mendswith(\u001b[39m'\u001b[39m\u001b[39m.json\u001b[39m\u001b[39m'\u001b[39m)]\n\u001b[1;32m      3\u001b[0m \u001b[39m# print(json_file_names)\u001b[39;00m\n\u001b[1;32m      4\u001b[0m corpus_with_watermark \u001b[39m=\u001b[39m []\n",
      "\u001b[0;31mFileNotFoundError\u001b[0m: [Errno 2] No such file or directory: '/data/corpora_with_watermark/'"
     ]
    }
   ],
   "source": [
    "path_watermarked = '/data/corpora_with_watermark/'\n",
    "json_file_names = [filename for filename in os.listdir(path_watermarked) if filename.endswith('.json')]\n",
    "# print(json_file_names)\n",
    "corpus_with_watermark = []\n",
    "for json_file_name in json_file_names:\n",
    "    with open(os.path.join(path_watermarked, json_file_name)) as json_file:\n",
    "        foo = json.load(json_file)\n",
    "    corpus_with_watermark += foo"
   ]
  },
  {
   "cell_type": "code",
   "execution_count": 53,
   "id": "89ebb5d3",
   "metadata": {},
   "outputs": [],
   "source": [
    "path_nonwatermarked = '/data/corpora_without_watermark/'\n",
    "json_file_names = [filename for filename in os.listdir(path_nonwatermarked) if filename.endswith('.json')]\n",
    "corpus_without_watermark = []\n",
    "for json_file_name in json_file_names:\n",
    "    with open(os.path.join(path_nonwatermarked, json_file_name)) as json_file:\n",
    "        foo = json.load(json_file)\n",
    "    corpus_without_watermark += foo"
   ]
  },
  {
   "cell_type": "code",
   "execution_count": 24,
   "id": "5d3a9494-7e5d-42eb-9007-db081e577185",
   "metadata": {},
   "outputs": [],
   "source": [
    "word_dict_w = getWordDict(corpus_with_watermark, tokenizer)\n",
    "n_gram_dict_w = getNgramDict(corpus_with_watermark, tokenizer)\n",
    "\n",
    "word_dict_nw = getWordDict(corpus_without_watermark, tokenizer)\n",
    "n_gram_dict_nw = getNgramDict(corpus_without_watermark, tokenizer)"
   ]
  },
  {
   "attachments": {},
   "cell_type": "markdown",
   "id": "c75d85d9",
   "metadata": {},
   "source": [
    "## Computing $\\sup_{\\theta \\in \\Theta} L(\\theta)$"
   ]
  },
  {
   "cell_type": "code",
   "execution_count": 13,
   "id": "fdd5143c",
   "metadata": {},
   "outputs": [
    {
     "data": {
      "text/plain": [
       "tensor([[-0.4242, -1.6224, -1.9086],\n",
       "        [-0.6533, -2.4814, -0.9262]])"
      ]
     },
     "execution_count": 13,
     "metadata": {},
     "output_type": "execute_result"
    }
   ],
   "source": [
    "m = torch.nn.LogSoftmax(dim=1)\n",
    "input = torch.randn(2,3)\n",
    "m(input)"
   ]
  },
  {
   "cell_type": "code",
   "execution_count": 60,
   "id": "753fbff9",
   "metadata": {},
   "outputs": [],
   "source": [
    "\n",
    "def pLM(word1, tokenizer, soft_next_token_logits):\n",
    "    # word 1 and word 2 can also be whole sentences, expandable.\n",
    "    \n",
    "    word1tok = tokenizer.convert_tokens_to_ids(word1)\n",
    "\n",
    "    prob = soft_next_token_logits[word1tok]\n",
    "\n",
    "    return prob"
   ]
  },
  {
   "cell_type": "code",
   "execution_count": 65,
   "id": "e2b76f81",
   "metadata": {},
   "outputs": [],
   "source": [
    "def L_Gw(delta, w, word_dict, watermark_processor, tokenizer, model): \n",
    "    Lgrprod = 1\n",
    "    Ldelta = 0\n",
    "    expdelta = torch.exp(delta)\n",
    "    greenlist_w, redlist_w = watermark_processor._get_greenlist_ids(torch.tensor(tokenizer.encode(w)), get_redlist=True)\n",
    "    greenlist_w = tokenizer.convert_ids_to_tokens(greenlist_w)\n",
    "    redlist_w = tokenizer.convert_ids_to_tokens(redlist_w)\n",
    "    \n",
    "    for word in word_dict.keys():\n",
    "        greensum = 0 \n",
    "        redsum = 0\n",
    "        word2tok = tokenizer.convert_tokens_to_ids(word)\n",
    "        with torch.inference_mode():\n",
    "            output = model(torch.tensor([[word2tok]]))\n",
    "        soft_next_token_logits = torch.softmax(output.logits[0, -1, :], -1) \n",
    "        \n",
    "        for wdash in greenlist_w:\n",
    "            greensum += pLM(wdash, tokenizer, soft_next_token_logits)\n",
    "\n",
    "        for wdash in redlist_w:\n",
    "            redsum += pLM(wdash, tokenizer, soft_next_token_logits)\n",
    "        \n",
    "        Lgrprod *= greensum * expdelta + redsum\n",
    "        if w in greenlist_w:\n",
    "            Ldelta += delta\n",
    "    \n",
    "    L = Ldelta - torch.log(Lgrprod)\n",
    "    return L"
   ]
  },
  {
   "cell_type": "code",
   "execution_count": 62,
   "id": "cd3f2ecb",
   "metadata": {},
   "outputs": [],
   "source": [
    "deltaarr = torch.arange(0, 1, 0.01)\n",
    "# deltaarr\n",
    "Larr = L_Gw(deltaarr, 'Ġup', word_dict_nw, watermark_processor, tokenizer, model)\n"
   ]
  },
  {
   "cell_type": "code",
   "execution_count": 58,
   "id": "562de4c5",
   "metadata": {},
   "outputs": [
    {
     "data": {
      "text/plain": [
       "tensor([ 3.6377e-04, -4.4109e-01, -8.8593e-01, -1.3342e+00, -1.7858e+00,\n",
       "        -2.2409e+00, -2.6994e+00, -3.1614e+00, -3.6269e+00, -4.0959e+00,\n",
       "        -4.5684e+00, -5.0444e+00, -5.5240e+00, -6.0072e+00, -6.4940e+00,\n",
       "        -6.9844e+00, -7.4784e+00, -7.9760e+00, -8.4773e+00, -8.9823e+00,\n",
       "        -9.4910e+00, -1.0003e+01, -1.0520e+01, -1.1039e+01, -1.1563e+01,\n",
       "        -1.2090e+01, -1.2622e+01, -1.3157e+01, -1.3696e+01, -1.4238e+01,\n",
       "        -1.4785e+01, -1.5335e+01, -1.5890e+01, -1.6448e+01, -1.7010e+01,\n",
       "        -1.7576e+01, -1.8146e+01, -1.8720e+01, -1.9298e+01, -1.9880e+01,\n",
       "        -2.0467e+01, -2.1057e+01, -2.1651e+01, -2.2249e+01, -2.2852e+01,\n",
       "        -2.3458e+01, -2.4069e+01, -2.4683e+01, -2.5302e+01, -2.5925e+01,\n",
       "        -2.6552e+01, -2.7184e+01, -2.7819e+01, -2.8459e+01, -2.9103e+01,\n",
       "        -2.9751e+01, -3.0404e+01, -3.1061e+01, -3.1722e+01, -3.2387e+01,\n",
       "        -3.3057e+01, -3.3731e+01, -3.4409e+01, -3.5092e+01, -3.5779e+01,\n",
       "        -3.6470e+01, -3.7166e+01, -3.7866e+01, -3.8571e+01, -3.9280e+01,\n",
       "        -3.9993e+01, -4.0711e+01, -4.1434e+01, -4.2161e+01, -4.2892e+01,\n",
       "        -4.3628e+01, -4.4368e+01, -4.5113e+01, -4.5862e+01, -4.6616e+01,\n",
       "        -4.7375e+01, -4.8138e+01, -4.8905e+01, -4.9677e+01, -5.0454e+01,\n",
       "        -5.1235e+01, -5.2021e+01, -5.2811e+01, -5.3606e+01, -5.4406e+01,\n",
       "        -5.5210e+01, -5.6019e+01, -5.6833e+01, -5.7651e+01, -5.8474e+01,\n",
       "        -5.9302e+01, -6.0134e+01, -6.0971e+01, -6.1812e+01, -6.2659e+01])"
      ]
     },
     "execution_count": 58,
     "metadata": {},
     "output_type": "execute_result"
    }
   ],
   "source": [
    "Larr"
   ]
  },
  {
   "cell_type": "code",
   "execution_count": 63,
   "id": "b8ecf6f6",
   "metadata": {},
   "outputs": [
    {
     "data": {
      "image/png": "[encoded data removed]",
      "text/plain": [
       "<Figure size 640x480 with 1 Axes>"
      ]
     },
     "metadata": {},
     "output_type": "display_data"
    }
   ],
   "source": [
    "plt.plot(deltaarr, Larr)\n",
    "plt.xlabel(\"delta\")\n",
    "plt.ylabel(\"L(G_w, delta, \\'up\\')\")\n",
    "plt.show()"
   ]
  },
  {
   "cell_type": "code",
   "execution_count": 45,
   "id": "29d1ecac",
   "metadata": {},
   "outputs": [
    {
     "name": "stdout",
     "output_type": "stream",
     "text": [
      "tensor([[  113,  1711,    21,   269,  3035,   113,  1437,  1437,    22, 14783,\n",
      "            38,   218,    75,   216,   932,    59,   930,     8,    38,  3996,\n",
      "             5,   569,   113,  1437,  1437,    22,   100,   218,    75,   216,\n",
      "           932,    59,   930,   113,  1437,  1437,    22,  2847,    99,    32,\n",
      "            47,   608,    19,   110,  1730,  1917,  1437,  1437,    22,   100,\n",
      "           437,  6908,   120,   106,     7,  3836,   113, 50118,   243,    18,\n",
      "            67,     5,   275,  2214,    11,     5,  1445,  2642,   328,     2]])\n"
     ]
    }
   ],
   "source": [
    "## L gradient descent\n",
    "\n",
    "optim = torch.optim.SGD()"
   ]
  },
  {
   "cell_type": "code",
   "execution_count": null,
   "id": "0f16a7ac",
   "metadata": {},
   "outputs": [],
   "source": []
  }
 ],
 "metadata": {
  "kernelspec": {
   "display_name": "Python 3 (ipykernel)",
   "language": "python",
   "name": "python3"
  },
  "language_info": {
   "codemirror_mode": {
    "name": "ipython",
    "version": 3
   },
   "file_extension": ".py",
   "mimetype": "text/x-python",
   "name": "python",
   "nbconvert_exporter": "python",
   "pygments_lexer": "ipython3",
   "version": "3.11.4"
  }
 },
 "nbformat": 4,
 "nbformat_minor": 5
}
