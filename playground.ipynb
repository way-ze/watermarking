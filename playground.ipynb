{
 "cells": [
  {
   "cell_type": "code",
   "execution_count": 2,
   "id": "52134bc0-3ee8-42fc-80d9-575bf905a97c",
   "metadata": {},
   "outputs": [
    {
     "name": "stderr",
     "output_type": "stream",
     "text": [
      "/Users/wayne/miniconda3/envs/lm-watermarking1/lib/python3.11/site-packages/tqdm/auto.py:21: TqdmWarning: IProgress not found. Please update jupyter and ipywidgets. See https://ipywidgets.readthedocs.io/en/stable/user_install.html\n",
      "  from .autonotebook import tqdm as notebook_tqdm\n"
     ]
    }
   ],
   "source": [
    "import os\n",
    "import json\n",
    "\n",
    "from argparse import Namespace \n",
    "import matplotlib.pyplot as plt \n",
    "import numpy as np\n",
    "import torch\n",
    "\n",
    "\n",
    "from bigram_estimator import getWordDict, getNgramDict, pLM\n",
    "from generate_watermark import load_model, generate\n",
    "from likelihood_ratio_test import L_Gw"
   ]
  },
  {
   "cell_type": "code",
   "execution_count": 2,
   "id": "68c3f18a-ff99-475d-a8a1-20736c649882",
   "metadata": {},
   "outputs": [],
   "source": [
    "args = Namespace()\n",
    "\n",
    "arg_dict = {\n",
    "    'run_gradio': False, \n",
    "    'demo_public': False,\n",
    "    'model_name_or_path': 'facebook/opt-350m', \n",
    "    # 'model_name_or_path': 'facebook/opt-1.3b', \n",
    "    # 'model_name_or_path': 'facebook/opt-2.7b', \n",
    "    # 'model_name_or_path': 'facebook/opt-6.7b',\n",
    "    # 'model_name_or_path': 'facebook/opt-13b',\n",
    "    # 'load_fp16' : True,\n",
    "    'load_fp16' : False,\n",
    "    'prompt_max_length': None, \n",
    "    'max_new_tokens': 200, \n",
    "    'generation_seed': 123, \n",
    "    'use_sampling': True, \n",
    "    'n_beams': 1, \n",
    "    'sampling_temp': 0.7, \n",
    "    \n",
    "    # 'use_gpu': True, \n",
    "    'use_gpu': False, \n",
    "    'seeding_scheme': 'simple_1', \n",
    "    'gamma': 0.25, \n",
    "    'delta': 2.0, \n",
    "    'normalizers': '', \n",
    "    'ignore_repeated_bigrams': False, \n",
    "    'detection_z_threshold': 4.0, \n",
    "    'select_green_tokens': True,\n",
    "    'skip_model_load': False,\n",
    "    'seed_separately': True,\n",
    "}\n",
    "\n",
    "args.__dict__.update(arg_dict)\n",
    "\n",
    "args.is_seq2seq_model = any([(model_type in args.model_name_or_path) for model_type in [\"t5\",\"T0\"]])\n",
    "args.is_decoder_only_model = any([(model_type in args.model_name_or_path) for model_type in [\"gpt\",\"opt\",\"bloom\"]])\n"
   ]
  },
  {
   "cell_type": "code",
   "execution_count": 3,
   "id": "16b7dcd8",
   "metadata": {},
   "outputs": [],
   "source": [
    "model, tokenizer, device = load_model(args)"
   ]
  },
  {
   "cell_type": "code",
   "execution_count": 4,
   "id": "6edc8887-d4a6-4a3e-82e6-454e2ea21c94",
   "metadata": {},
   "outputs": [
    {
     "name": "stdout",
     "output_type": "stream",
     "text": [
      "Generating with Namespace(run_gradio=False, demo_public=False, model_name_or_path='facebook/opt-350m', load_fp16=False, prompt_max_length=None, max_new_tokens=200, generation_seed=123, use_sampling=True, n_beams=1, sampling_temp=0.7, use_gpu=False, seeding_scheme='simple_1', gamma=0.25, delta=2.0, normalizers='', ignore_repeated_bigrams=False, detection_z_threshold=4.0, select_green_tokens=True, skip_model_load=False, seed_separately=True, is_seq2seq_model=False, is_decoder_only_model=True)\n"
     ]
    }
   ],
   "source": [
    "times = 1 #1000\n",
    "tokd_input, watermark_processor, output, corpus_without_watermark, corpus_with_watermark, _ = generate(\"\",\n",
    "                                                                    args,\n",
    "                                                                    model=model,\n",
    "                                                                    device=device,\n",
    "                                                                    tokenizer=tokenizer,\n",
    "                                                                    times=times)"
   ]
  },
  {
   "cell_type": "markdown",
   "id": "168a5e84",
   "metadata": {},
   "source": [
    "To load whole corpora. Only use when analysing over larger corpora"
   ]
  },
  {
   "attachments": {},
   "cell_type": "markdown",
   "id": "c75d85d9",
   "metadata": {},
   "source": [
    "## Computing $\\sup_{\\theta \\in \\Theta} L(\\theta)$"
   ]
  },
  {
   "cell_type": "code",
   "execution_count": 3,
   "id": "fdd5143c",
   "metadata": {},
   "outputs": [],
   "source": [
    "# Helper functions\n",
    "\n",
    "def getGreenlist(w, tokenizer=None, watermark_processor=None):\n",
    "    greenlist_w, redlist_w = watermark_processor._get_greenlist_ids(torch.tensor(tokenizer.encode(w)), get_redlist=True)\n",
    "    greenlist_w = tokenizer.convert_ids_to_tokens(greenlist_w)\n",
    "    redlist_w = tokenizer.convert_ids_to_tokens(redlist_w)\n",
    "    return greenlist_w, redlist_w\n",
    "\n",
    "def getTokenizedCorpus(corpus, tokenizer=None):\n",
    "    # Returns tokenized corpus, subword by subword, as well as the encoded corpus\n",
    "    words_with_offsets = tokenizer.backend_tokenizer.pre_tokenizer.pre_tokenize_str(corpus)\n",
    "    tokenized_corpus = list(zip(*words_with_offsets))[0]\n",
    "    corpus_t = tokenizer.encode(corpus, add_special_tokens=False)\n",
    "    return tokenized_corpus, corpus_t\n"
   ]
  },
  {
   "cell_type": "code",
   "execution_count": null,
   "id": "317e022e",
   "metadata": {},
   "outputs": [],
   "source": [
    "# def L_Gw(delta, w, corpus, watermark_processor, tokenizer, model):\n",
    "#     expdelta = torch.exp(delta)\n",
    "#     greenlist_w, redlist_w = getGreenlist(w, watermark_processor)\n",
    "\n",
    "#     words_with_offsets = tokenizer.backend_tokenizer.pre_tokenizer.pre_tokenize_str(corpus)\n",
    "#     tokenized_corpus = list(zip(*words_with_offsets))[0]\n",
    "    \n",
    "#     corpus_t = tokenizer.encode(corpus, add_special_tokens=False)\n",
    "\n",
    "#     with torch.inference_mode():\n",
    "#         output = model(torch.tensor([corpus_t]))\n",
    "#     soft_logits = torch.softmax(output.logits[0], dim=1)\n",
    "\n",
    "#     green = torch.zeros(output.logits.size(1))\n",
    "#     red = torch.zeros(output.logits.size(1))\n",
    "\n",
    "#     for wdash in greenlist_w:\n",
    "#         green += pLM(wdash, tokenizer, soft_logits)\n",
    "\n",
    "#     for wdash in redlist_w:\n",
    "#         red += pLM(wdash, tokenizer, soft_logits)\n",
    "\n",
    "#     deltas = torch.zeros(output.logits.size(1))\n",
    "#     for i in range(output.logits.size(1)):\n",
    "#         if tokenized_corpus[i] in greenlist_w:\n",
    "#             deltas[i] = deltas[i] + delta\n",
    "    \n",
    "#     Lvector = torch.log(pLM(tokenized_corpus, tokenizer, soft_logits)) + deltas - torch.log(expdelta * green + red)\n",
    "\n",
    "#     L_final = torch.sum(Lvector)\n",
    "#     return L_final"
   ]
  },
  {
   "cell_type": "code",
   "execution_count": 3,
   "id": "a02b82c9",
   "metadata": {},
   "outputs": [],
   "source": [
    "def L_Gw2(delta, w, corpus, watermark_processor, tokenizer, model):\n",
    "    L_tot = 0\n",
    "    expdelta = torch.exp(delta)\n",
    "    greenlist_w, redlist_w = getGreenlist(w, watermark_processor)\n",
    "    for sentence in corpus[0].split(\"  \"): # We can actually just feed bigram to bigram here?\n",
    "        tokenized_corpus, corpus_t = getTokenizedCorpus(sentence, tokenizer=tokenizer)\n",
    "\n",
    "        with torch.inference_mode():\n",
    "            output = model(torch.tensor([corpus_t]))\n",
    "        soft_logits = torch.softmax(output.logits[0], dim=1)\n",
    "\n",
    "        indices = [i for i, x in enumerate(tokenized_corpus) if x == w]\n",
    "        # indices = [i + 1 for i in indices] ## DO WE NEED THIS INDEX SHIFT OR NOT?\n",
    "        soft_logits_filtered = soft_logits[indices,:]\n",
    "        green = torch.zeros(len(indices))\n",
    "        red = torch.zeros(len(indices))\n",
    "        for wdash in greenlist_w:\n",
    "            green += pLM(wdash, tokenizer, soft_logits_filtered)\n",
    "        for wdash in redlist_w:\n",
    "            red += pLM(wdash, tokenizer, soft_logits_filtered)\n",
    "        deltas = torch.zeros(len(indices))\n",
    "        for i in range(len(indices)):\n",
    "            if tokenized_corpus[indices[i]] in greenlist_w:\n",
    "                deltas[i] = deltas[i] + delta\n",
    "        Lvector = deltas - torch.log(expdelta * green + red)\n",
    "\n",
    "        Lol = torch.sum(Lvector)\n",
    "        L_tot += Lol\n",
    "    return L_tot, Lvector"
   ]
  },
  {
   "cell_type": "code",
   "execution_count": 15,
   "id": "596f145c",
   "metadata": {},
   "outputs": [],
   "source": [
    "delta_init = torch.tensor(0.1)\n",
    "delta_init.requires_grad = True\n",
    "loss = torch.tensor(1.)\n",
    "loss.requires_grad = True\n",
    "tol = 1e-9\n",
    "deltaarr = torch.linspace(0, 1, 50)\n",
    "delta = torch.tensor(.2)\n",
    "w = 'Ġbrown'\n",
    "sentence = \"The quick brown fox jumps over the lazy brown dog\"#"
   ]
  },
  {
   "cell_type": "markdown",
   "id": "7e29853e",
   "metadata": {},
   "source": [
    "## Gradient Descent"
   ]
  },
  {
   "cell_type": "code",
   "execution_count": 31,
   "id": "ba1174e1",
   "metadata": {},
   "outputs": [
    {
     "name": "stdout",
     "output_type": "stream",
     "text": [
      "Loss = -0.038755159825086594, delta_grad = 0.2006731480360031, delta = -0.18030165135860443\n",
      "Loss = -0.039157480001449585, delta_grad = 0.20031802356243134, delta = -0.18230482935905457\n",
      "Loss = -0.03955836594104767, delta_grad = 0.19996406137943268, delta = -0.18430447578430176\n",
      "Loss = -0.039957884699106216, delta_grad = 0.19961127638816833, delta = -0.186300590634346\n",
      "Loss = -0.04035603255033493, delta_grad = 0.1992596536874771, delta = -0.1882931888103485\n",
      "Loss = -0.04075268656015396, delta_grad = 0.19890917837619781, delta = -0.19028228521347046\n",
      "Loss = -0.041148025542497635, delta_grad = 0.19855988025665283, delta = -0.19226787984371185\n",
      "Loss = -0.0415419302880764, delta_grad = 0.19821174442768097, delta = -0.19425000250339508\n",
      "Loss = -0.041934460401535034, delta_grad = 0.19786469638347626, delta = -0.19622865319252014\n",
      "Loss = -0.042325615882873535, delta_grad = 0.19751881062984467, delta = -0.19820384681224823\n",
      "found optimal value of delta=-0.19820384681224823, with LGWDelta(delta)=0.04271545261144638\n"
     ]
    }
   ],
   "source": [
    "optimizer = torch.optim.SGD([delta_init], lr=0.01)\n",
    "\n",
    "epochs = 10\n",
    "# look at the gradient of delta too!\n",
    "\n",
    "def L_Gw_delta(delta):\n",
    "  return L_Gw2(delta, w, sentence, watermark_processor, tokenizer, model)\n",
    "\n",
    "for _ in range(epochs):\n",
    "  # print(f\"Loss = {loss.item()}\")\n",
    "  optimizer.zero_grad()\n",
    "  loss = -L_Gw_delta(delta_init)\n",
    "  loss.backward()\n",
    "  optimizer.step()\n",
    "  print(f\"Loss = {loss.item()}, delta_grad = {optimizer.param_groups[0]['params'][0].grad}, delta = {delta_init.item()}\")\n",
    "\n",
    "\n",
    "print(f'found optimal value of delta={delta_init.item()}, with LGWDelta(delta)={L_Gw_delta(delta_init).item()}')\n"
   ]
  },
  {
   "cell_type": "code",
   "execution_count": 29,
   "id": "d7229e73",
   "metadata": {},
   "outputs": [
    {
     "data": {
      "text/plain": [
       "tensor(0.2437)"
      ]
     },
     "execution_count": 29,
     "metadata": {},
     "output_type": "execute_result"
    }
   ],
   "source": [
    "optimizer.param_groups[0]['params'][0].grad"
   ]
  },
  {
   "cell_type": "code",
   "execution_count": 12,
   "id": "de544e30",
   "metadata": {},
   "outputs": [
    {
     "name": "stdout",
     "output_type": "stream",
     "text": [
      "green + red = tensor([1.0000, 1.0000])\n",
      "tensor([0., 0.])\n",
      "brown is in G_quick = False\n",
      "jumps is in G_fox = False\n",
      "the is in G_over = False\n",
      "lazy is in G_the = False\n"
     ]
    }
   ],
   "source": [
    "# deltaarr = torch.linspace(0, 1, 50)\n",
    "# delta = torch.tensor(.2)\n",
    "# w = 'Ġbrown'\n",
    "# sentence = \"The quick brown fox jumps over the lazy brown dog\"#\n",
    "g_quick = getGreenlist('Ġquick', watermark_processor)\n",
    "g_fox = getGreenlist('Ġfox', watermark_processor)\n",
    "g_over = getGreenlist('Ġover', watermark_processor)\n",
    "g_the = getGreenlist('Ġthe', watermark_processor)\n",
    "\n",
    "\n",
    "\n",
    "Lol = L_Gw2(delta, w, sentence, watermark_processor, tokenizer, model)\n",
    "# print(Lol)\n",
    "# print(Lvector)\n",
    "print(f\"brown is in G_quick = {'Ġbrown' in g_quick}\")\n",
    "print(f\"jumps is in G_fox = {'Ġjumps' in g_fox}\")\n",
    "print(f\"the is in G_over = {'Ġthe' in g_over}\")\n",
    "print(f\"lazy is in G_the = {'Ġlazy' in g_the}\")\n",
    "\n",
    "\n"
   ]
  },
  {
   "cell_type": "code",
   "execution_count": 4,
   "id": "26ef8480",
   "metadata": {},
   "outputs": [
    {
     "ename": "NameError",
     "evalue": "name 'watermark_processor' is not defined",
     "output_type": "error",
     "traceback": [
      "\u001b[0;31m---------------------------------------------------------------------------\u001b[0m",
      "\u001b[0;31mNameError\u001b[0m                                 Traceback (most recent call last)",
      "Cell \u001b[0;32mIn[4], line 8\u001b[0m\n\u001b[1;32m      6\u001b[0m Larr \u001b[39m=\u001b[39m torch\u001b[39m.\u001b[39mzeros(deltaarr\u001b[39m.\u001b[39msize(\u001b[39m0\u001b[39m))\n\u001b[1;32m      7\u001b[0m \u001b[39mfor\u001b[39;00m i \u001b[39min\u001b[39;00m \u001b[39mrange\u001b[39m(deltaarr\u001b[39m.\u001b[39msize(\u001b[39m0\u001b[39m)):\n\u001b[0;32m----> 8\u001b[0m     Larr[i] \u001b[39m=\u001b[39m L_Gw2(deltaarr[i], w, sentence, watermark_processor, tokenizer, model)\n\u001b[1;32m      9\u001b[0m plt\u001b[39m.\u001b[39mplot(deltaarr, Larr)\n\u001b[1;32m     10\u001b[0m plt\u001b[39m.\u001b[39mxlabel(\u001b[39m\"\u001b[39m\u001b[39mdelta\u001b[39m\u001b[39m\"\u001b[39m)\n",
      "\u001b[0;31mNameError\u001b[0m: name 'watermark_processor' is not defined"
     ]
    }
   ],
   "source": [
    "deltaarr = torch.linspace(0, 1, 10)\n",
    "w = 'Ġbrown'\n",
    "sentence = \"The quick brown fox jumps over the lazy brown dog\"#\n",
    "\n",
    "\n",
    "Larr = torch.zeros(deltaarr.size(0))\n",
    "for i in range(deltaarr.size(0)):\n",
    "    Larr[i] = L_Gw2(deltaarr[i], w, sentence, watermark_processor, tokenizer, model)\n",
    "plt.plot(deltaarr, Larr)\n",
    "plt.xlabel(\"delta\")\n",
    "plt.ylabel(\"L(G_w, delta, \\'brown\\')\")\n",
    "plt.show()"
   ]
  },
  {
   "cell_type": "code",
   "execution_count": 75,
   "id": "d92226ab",
   "metadata": {},
   "outputs": [
    {
     "data": {
      "text/plain": [
       "tensor([ 5.1911e-04, -2.7738e-02, -5.7575e-02, -8.9007e-02, -1.2205e-01,\n",
       "        -1.5671e-01, -1.9300e-01, -2.3095e-01, -2.7055e-01, -3.1183e-01,\n",
       "        -3.5480e-01, -3.9946e-01, -4.4584e-01, -4.9394e-01, -5.4377e-01,\n",
       "        -5.9535e-01, -6.4869e-01, -7.0380e-01, -7.6070e-01, -8.1938e-01,\n",
       "        -8.7987e-01, -9.4217e-01, -1.0063e+00, -1.0723e+00, -1.1401e+00,\n",
       "        -1.2097e+00, -1.2813e+00, -1.3547e+00, -1.4299e+00, -1.5071e+00,\n",
       "        -1.5862e+00, -1.6671e+00, -1.7500e+00, -1.8349e+00, -1.9216e+00,\n",
       "        -2.0103e+00, -2.1009e+00, -2.1935e+00, -2.2880e+00, -2.3845e+00,\n",
       "        -2.4830e+00, -2.5834e+00, -2.6858e+00, -2.7902e+00, -2.8966e+00,\n",
       "        -3.0050e+00, -3.1154e+00, -3.2278e+00, -3.3422e+00, -3.4586e+00])"
      ]
     },
     "execution_count": 75,
     "metadata": {},
     "output_type": "execute_result"
    }
   ],
   "source": [
    "\n",
    "# print(deltaarr.size(0))\n",
    "# w = 'Ġup'\n",
    "sentence = \"The quick brown fox jumps over the lazy dog\"\n",
    "sentences = corpus_without_watermark[0].split(\"   \")\n",
    "\n",
    "Larr = torch.zeros(deltaarr.size(0))\n",
    "for j in range(len(sentences)):\n",
    "    for i in range(deltaarr.size(0)):\n",
    "        Larr[i] = L_Gw(deltaarr[i], w, sentences[j], watermark_processor, tokenizer, model)\n",
    "Larr"
   ]
  },
  {
   "cell_type": "code",
   "execution_count": 86,
   "id": "b4d2b316",
   "metadata": {},
   "outputs": [
    {
     "data": {
      "image/png": "[encoded data removed]",
      "text/plain": [
       "<Figure size 640x480 with 1 Axes>"
      ]
     },
     "metadata": {},
     "output_type": "display_data"
    }
   ],
   "source": [
    "plt.plot(deltaarr, Larr)\n",
    "plt.xlabel(\"delta\")\n",
    "plt.ylabel(\"L(G_w, delta, \\'quick\\')\")\n",
    "plt.show()"
   ]
  },
  {
   "cell_type": "code",
   "execution_count": 89,
   "id": "fca39364",
   "metadata": {},
   "outputs": [
    {
     "data": {
      "image/png": "[encoded data removed]",
      "text/plain": [
       "<Figure size 640x480 with 1 Axes>"
      ]
     },
     "metadata": {},
     "output_type": "display_data"
    }
   ],
   "source": [
    "deltaarr = torch.linspace(0, 1, 50)\n",
    "w = 'The'\n",
    "sentence = \"The quick brown fox jumps over the lazy dog\"#\n",
    "\n",
    "\n",
    "Larr = torch.zeros(deltaarr.size(0))\n",
    "for i in range(deltaarr.size(0)):\n",
    "    Larr[i] = L_Gw(deltaarr[i], w, sentence, watermark_processor, tokenizer, model)\n",
    "\n",
    "plt.plot(deltaarr, Larr)\n",
    "plt.xlabel(\"delta\")\n",
    "plt.ylabel(\"L(G_w, delta, \\'The\\')\")\n",
    "plt.show()"
   ]
  },
  {
   "cell_type": "code",
   "execution_count": 63,
   "id": "b8ecf6f6",
   "metadata": {},
   "outputs": [
    {
     "data": {
      "image/png": "[encoded data removed]",
      "text/plain": [
       "<Figure size 640x480 with 1 Axes>"
      ]
     },
     "metadata": {},
     "output_type": "display_data"
    }
   ],
   "source": [
    "plt.plot(deltaarr, Larr)\n",
    "plt.xlabel(\"delta\")\n",
    "plt.ylabel(\"L(G_w, delta, \\'up\\')\")\n",
    "plt.show()"
   ]
  },
  {
   "cell_type": "markdown",
   "id": "98a0ee07",
   "metadata": {},
   "source": [
    "## Sanity check\n",
    "- Check greenlist, check predicted delta\n",
    "- Try to \"recover\" delta given wmarked text. Dump wmarked text back into optimiser and see what delta comes out.\n",
    "- If we see sth is in the greenlist then the gradient should be \"steeper\""
   ]
  },
  {
   "cell_type": "code",
   "execution_count": 70,
   "id": "0f16a7ac",
   "metadata": {},
   "outputs": [
    {
     "name": "stdout",
     "output_type": "stream",
     "text": [
      "Generating with Namespace(run_gradio=False, demo_public=False, model_name_or_path='facebook/opt-350m', load_fp16=False, prompt_max_length=None, max_new_tokens=200, generation_seed=456, use_sampling=True, n_beams=1, sampling_temp=1, use_gpu=False, seeding_scheme='simple_1', gamma=0.25, delta=1.5, normalizers='', ignore_repeated_bigrams=False, detection_z_threshold=4.0, select_green_tokens=True, skip_model_load=False, seed_separately=True, is_seq2seq_model=False, is_decoder_only_model=True)\n"
     ]
    }
   ],
   "source": [
    "args_test = Namespace()\n",
    "\n",
    "arg_dict_test = {\n",
    "    'run_gradio': False, \n",
    "    'demo_public': False,\n",
    "    'model_name_or_path': 'facebook/opt-350m', \n",
    "    # 'model_name_or_path': 'facebook/opt-1.3b', \n",
    "    # 'model_name_or_path': 'facebook/opt-2.7b', \n",
    "    # 'model_name_or_path': 'facebook/opt-6.7b',\n",
    "    # 'model_name_or_path': 'facebook/opt-13b',\n",
    "    # 'load_fp16' : True,\n",
    "    'load_fp16' : False,\n",
    "    'prompt_max_length': None, \n",
    "    'max_new_tokens': 200, \n",
    "    'generation_seed': 456, \n",
    "    'use_sampling': True, \n",
    "    'n_beams': 1, \n",
    "    'sampling_temp': 1, # 0.7, # we want to sample exactly from the wm-ed distribution\n",
    "    \n",
    "    # 'use_gpu': True, \n",
    "    'use_gpu': False, \n",
    "    'seeding_scheme': 'simple_1', \n",
    "    'gamma': 0.25, \n",
    "    'delta': 1.5, \n",
    "    'normalizers': '', \n",
    "    'ignore_repeated_bigrams': False, \n",
    "    'detection_z_threshold': 4.0, \n",
    "    'select_green_tokens': True,\n",
    "    'skip_model_load': False,\n",
    "    'seed_separately': True,\n",
    "}\n",
    "\n",
    "args_test.__dict__.update(arg_dict_test)\n",
    "\n",
    "args_test.is_seq2seq_model = any([(model_type in args_test.model_name_or_path) for model_type in [\"t5\",\"T0\"]])\n",
    "args_test.is_decoder_only_model = any([(model_type in args_test.model_name_or_path) for model_type in [\"gpt\",\"opt\",\"bloom\"]])\n",
    "\n",
    "\n",
    "model_2, tokenizer_2, device_2 = load_model(args_test)\n",
    "\n",
    "times = 2 #1000\n",
    "tokd_input_2, watermark_processor_2, output_2, corpus_without_watermark_2, corpus_with_watermark_2, _ = generate(\"\",\n",
    "                                                                    args_test,\n",
    "                                                                    model=model_2,\n",
    "                                                                    device=device_2,\n",
    "                                                                    tokenizer=tokenizer_2,\n",
    "                                                                    times=times)"
   ]
  },
  {
   "cell_type": "code",
   "execution_count": 65,
   "id": "bc724976",
   "metadata": {},
   "outputs": [],
   "source": [
    "from nltk.util import ngrams\n",
    "\n",
    "\n",
    "def L_Gw_sanity(delta, w, corpus, watermark_processor, tokenizer, model):\n",
    "    L_tot = 0\n",
    "    expdelta = torch.exp(delta)\n",
    "    greenlist_w, redlist_w = getGreenlist(w, tokenizer, watermark_processor)\n",
    "    tokenized_corpus, corpus_t = getTokenizedCorpus(corpus, tokenizer=tokenizer)\n",
    "    with torch.inference_mode():\n",
    "        output = model(torch.tensor([corpus_t]))\n",
    "    soft_logits = torch.softmax(output.logits[0], dim=1)\n",
    "    bigram_list = list(ngrams(tokenized_corpus, 2))\n",
    "    bigram_vector = torch.zeros(len(bigram_list))\n",
    "    for j in range(len(bigram_list)):\n",
    "        bigram = bigram_list[j]\n",
    "        # print(bigram) \n",
    "        # indices = [i for i, x in enumerate(bigram) if x == w]\n",
    "        indices = [0] if bigram[0] == w else []\n",
    "        # indices = [i + 1 for i in indices] ## DO WE NEED THIS INDEX SHIFT OR NOT?\n",
    "        soft_logits_filtered = soft_logits[indices,:]\n",
    "        green = torch.zeros(len(indices))\n",
    "        red = torch.zeros(len(indices))\n",
    "        for wdash in greenlist_w:\n",
    "            green += pLM(wdash, tokenizer, soft_logits_filtered)\n",
    "        for wdash in redlist_w:\n",
    "            red += pLM(wdash, tokenizer, soft_logits_filtered)\n",
    "        deltas = torch.zeros(len(indices))\n",
    "        for i in range(len(indices)):\n",
    "            if tokenized_corpus[indices[i]] in greenlist_w:\n",
    "                deltas[i] = deltas[i] + delta\n",
    "        Lvector = deltas - torch.log(expdelta * green + red)\n",
    "\n",
    "        Lol = torch.sum(Lvector)\n",
    "        \n",
    "        #L_tot += Lol\n",
    "        bigram_vector[j] = Lol\n",
    "    L_tot = torch.sum(bigram_vector)\n",
    "    return L_tot, bigram_vector, bigram_list"
   ]
  },
  {
   "cell_type": "code",
   "execution_count": 66,
   "id": "ec044901",
   "metadata": {},
   "outputs": [],
   "source": [
    "delta_2 = torch.tensor(0.5)\n",
    "w = 'Ġand'\n",
    "L_total, bigram_vector, bigram_list = L_Gw_sanity(delta_2, w, corpus_with_watermark_2, watermark_processor_2, tokenizer_2, model_2)"
   ]
  },
  {
   "cell_type": "code",
   "execution_count": 67,
   "id": "00a5f589",
   "metadata": {},
   "outputs": [
    {
     "data": {
      "text/plain": [
       "tensor([ 0.0000,  0.0000,  0.0000,  0.0000,  0.0000,  0.0000,  0.0000,  0.0000,\n",
       "         0.0000,  0.0000,  0.0000,  0.0000,  0.0000,  0.0000,  0.0000,  0.0000,\n",
       "         0.0000,  0.0000,  0.0000,  0.0000,  0.0000,  0.0000,  0.0000,  0.0000,\n",
       "         0.0000,  0.0000,  0.0000,  0.0000,  0.0000,  0.0000,  0.0000,  0.0000,\n",
       "         0.0000,  0.0000,  0.0000,  0.0000,  0.0000,  0.0000,  0.0000,  0.0000,\n",
       "         0.0000,  0.0000,  0.0000,  0.0000,  0.0000,  0.0000, -0.1586,  0.0000,\n",
       "         0.0000,  0.0000,  0.0000,  0.0000,  0.0000,  0.0000,  0.0000,  0.0000,\n",
       "         0.0000,  0.0000,  0.0000,  0.0000,  0.0000,  0.0000,  0.0000,  0.0000,\n",
       "         0.0000,  0.0000,  0.0000,  0.0000,  0.0000,  0.0000,  0.0000,  0.0000,\n",
       "         0.0000,  0.0000,  0.0000,  0.0000,  0.0000,  0.0000,  0.0000,  0.0000,\n",
       "         0.0000,  0.0000,  0.0000,  0.0000,  0.0000,  0.0000,  0.0000,  0.0000,\n",
       "         0.0000,  0.0000,  0.0000,  0.0000,  0.0000,  0.0000,  0.0000,  0.0000,\n",
       "         0.0000,  0.0000,  0.0000,  0.0000,  0.0000,  0.0000,  0.0000,  0.0000,\n",
       "         0.0000,  0.0000,  0.0000,  0.0000,  0.0000,  0.0000,  0.0000,  0.0000,\n",
       "         0.0000,  0.0000,  0.0000,  0.0000,  0.0000,  0.0000,  0.0000,  0.0000,\n",
       "         0.0000,  0.0000,  0.0000,  0.0000,  0.0000,  0.0000,  0.0000,  0.0000,\n",
       "         0.0000,  0.0000,  0.0000,  0.0000,  0.0000,  0.0000,  0.0000,  0.0000,\n",
       "         0.0000,  0.0000,  0.0000,  0.0000,  0.0000,  0.0000,  0.0000,  0.0000,\n",
       "         0.0000,  0.0000,  0.0000,  0.0000,  0.0000,  0.0000,  0.0000,  0.0000,\n",
       "         0.0000,  0.0000,  0.0000,  0.0000,  0.0000,  0.0000,  0.0000,  0.0000,\n",
       "         0.0000,  0.0000,  0.0000,  0.0000,  0.0000,  0.0000,  0.0000,  0.0000,\n",
       "         0.0000,  0.0000,  0.0000,  0.0000,  0.0000,  0.0000, -0.1586,  0.0000,\n",
       "         0.0000,  0.0000,  0.0000,  0.0000,  0.0000,  0.0000,  0.0000,  0.0000,\n",
       "         0.0000,  0.0000,  0.0000,  0.0000,  0.0000,  0.0000,  0.0000,  0.0000,\n",
       "         0.0000,  0.0000,  0.0000,  0.0000,  0.0000,  0.0000, -0.1586,  0.0000,\n",
       "         0.0000,  0.0000,  0.0000,  0.0000,  0.0000,  0.0000,  0.0000,  0.0000,\n",
       "         0.0000,  0.0000,  0.0000,  0.0000,  0.0000,  0.0000,  0.0000,  0.0000,\n",
       "         0.0000,  0.0000,  0.0000,  0.0000,  0.0000,  0.0000,  0.0000,  0.0000,\n",
       "         0.0000,  0.0000,  0.0000,  0.0000,  0.0000,  0.0000,  0.0000,  0.0000,\n",
       "         0.0000,  0.0000,  0.0000,  0.0000,  0.0000,  0.0000,  0.0000,  0.0000,\n",
       "         0.0000,  0.0000,  0.0000,  0.0000,  0.0000,  0.0000,  0.0000,  0.0000,\n",
       "         0.0000,  0.0000,  0.0000,  0.0000,  0.0000,  0.0000, -0.1586,  0.0000,\n",
       "         0.0000,  0.0000,  0.0000, -0.1586,  0.0000,  0.0000,  0.0000,  0.0000,\n",
       "         0.0000,  0.0000,  0.0000,  0.0000,  0.0000,  0.0000,  0.0000,  0.0000,\n",
       "         0.0000,  0.0000,  0.0000, -0.1586,  0.0000,  0.0000,  0.0000,  0.0000,\n",
       "         0.0000,  0.0000,  0.0000,  0.0000,  0.0000,  0.0000,  0.0000,  0.0000,\n",
       "         0.0000,  0.0000,  0.0000,  0.0000,  0.0000,  0.0000,  0.0000,  0.0000,\n",
       "         0.0000,  0.0000,  0.0000,  0.0000,  0.0000,  0.0000,  0.0000,  0.0000,\n",
       "         0.0000,  0.0000,  0.0000,  0.0000,  0.0000,  0.0000,  0.0000, -0.1586,\n",
       "         0.0000,  0.0000,  0.0000,  0.0000,  0.0000,  0.0000,  0.0000,  0.0000,\n",
       "         0.0000,  0.0000,  0.0000,  0.0000,  0.0000,  0.0000,  0.0000,  0.0000,\n",
       "         0.0000,  0.0000,  0.0000, -0.1586,  0.0000,  0.0000,  0.0000,  0.0000,\n",
       "         0.0000,  0.0000,  0.0000, -0.1586,  0.0000,  0.0000,  0.0000, -0.1586,\n",
       "         0.0000,  0.0000,  0.0000,  0.0000,  0.0000,  0.0000,  0.0000,  0.0000,\n",
       "         0.0000,  0.0000,  0.0000,  0.0000,  0.0000, -0.1586,  0.0000,  0.0000,\n",
       "         0.0000,  0.0000,  0.0000,  0.0000,  0.0000,  0.0000,  0.0000,  0.0000,\n",
       "         0.0000])"
      ]
     },
     "execution_count": 67,
     "metadata": {},
     "output_type": "execute_result"
    }
   ],
   "source": [
    "bigram_vector"
   ]
  },
  {
   "cell_type": "code",
   "execution_count": 68,
   "id": "bceba4a0",
   "metadata": {},
   "outputs": [
    {
     "data": {
      "text/plain": [
       "tensor([ 46, 174, 198, 254, 259, 275, 311, 331, 339, 343, 357])"
      ]
     },
     "execution_count": 68,
     "metadata": {},
     "output_type": "execute_result"
    }
   ],
   "source": [
    "ind = torch.argwhere(bigram_vector != 0)[:,0]\n",
    "ind"
   ]
  },
  {
   "cell_type": "code",
   "execution_count": 69,
   "id": "d38bbc8a",
   "metadata": {},
   "outputs": [
    {
     "data": {
      "text/plain": [
       "[('Ġand', 'Ġthat'),\n",
       " ('Ġand', 'Ġget'),\n",
       " ('Ġand', 'Ġsee'),\n",
       " ('Ġand', 'Ġhis'),\n",
       " ('Ġand', 'ĠDonnie'),\n",
       " ('Ġand', 'Ġwatches'),\n",
       " ('Ġand', 'ĠSusan'),\n",
       " ('Ġand', 'Ġthey'),\n",
       " ('Ġand', 'ĠWahlberg'),\n",
       " ('Ġand', 'Ġthey'),\n",
       " ('Ġand', 'ĠWahlberg')]"
      ]
     },
     "execution_count": 69,
     "metadata": {},
     "output_type": "execute_result"
    }
   ],
   "source": [
    "[bigram_list[i] for i in ind]"
   ]
  },
  {
   "cell_type": "code",
   "execution_count": 64,
   "id": "6c41e796",
   "metadata": {},
   "outputs": [
    {
     "name": "stdout",
     "output_type": "stream",
     "text": [
      "Loss = 0.358028769493103, delta_grad = 3.6753299236297607, delta = 0.0632467046380043\n",
      "Loss = 0.2242278754711151, delta_grad = 3.605769634246826, delta = 0.02718900889158249\n",
      "Loss = 0.09543599933385849, delta_grad = 3.5379409790039062, delta = -0.008190400898456573\n",
      "Loss = -0.028563037514686584, delta_grad = 3.4718120098114014, delta = -0.04290851950645447\n",
      "Loss = -0.14797742664813995, delta_grad = 3.4073495864868164, delta = -0.07698201388120651\n",
      "Loss = -0.2630062401294708, delta_grad = 3.344520330429077, delta = -0.11042721569538116\n",
      "Loss = -0.37383919954299927, delta_grad = 3.283287286758423, delta = -0.14326009154319763\n",
      "Loss = -0.48065802454948425, delta_grad = 3.223616361618042, delta = -0.17549625039100647\n",
      "Loss = -0.5836367011070251, delta_grad = 3.1654696464538574, delta = -0.20715095102787018\n",
      "Loss = -0.6829408407211304, delta_grad = 3.108811140060425, delta = -0.23823906481266022\n",
      "found optimal value of delta=-0.23823906481266022, with LGWDelta(delta)=0.7787284255027771\n"
     ]
    }
   ],
   "source": [
    "delta_2 = torch.tensor(0.5)\n",
    "delta_init = torch.tensor(0.1)\n",
    "delta_init.requires_grad = True\n",
    "loss = torch.tensor(1.)\n",
    "loss.requires_grad = True\n",
    "tol = 1e-9\n",
    "deltaarr = torch.linspace(0, 1, 50)\n",
    "delta = torch.tensor(.2)\n",
    "\n",
    "w = 'Ġthe'\n",
    "optimizer = torch.optim.SGD([delta_init], lr=0.01) # use normal gd\n",
    "\n",
    "epochs = 10\n",
    "# look at the gradient of delta too!\n",
    "\n",
    "def L_Gw_delta(delta):\n",
    "  return L_Gw2(delta, w, corpus_with_watermark_2, watermark_processor_2, tokenizer_2, model_2)\n",
    "\n",
    "for _ in range(epochs):\n",
    "  optimizer.zero_grad()\n",
    "  loss = -L_Gw_delta(delta_init)\n",
    "  loss.backward()\n",
    "  optimizer.step()\n",
    "  print(f\"Loss = {loss.item()}, delta_grad = {optimizer.param_groups[0]['params'][0].grad}, delta = {delta_init.item()}\")\n",
    "\n",
    "\n",
    "print(f'found optimal value of delta={delta_init.item()}, with LGWDelta(delta)={L_Gw_delta(delta_init).item()}')\n"
   ]
  }
 ],
 "metadata": {
  "kernelspec": {
   "display_name": "Python 3 (ipykernel)",
   "language": "python",
   "name": "python3"
  },
  "language_info": {
   "codemirror_mode": {
    "name": "ipython",
    "version": 3
   },
   "file_extension": ".py",
   "mimetype": "text/x-python",
   "name": "python",
   "nbconvert_exporter": "python",
   "pygments_lexer": "ipython3",
   "version": "3.11.4"
  }
 },
 "nbformat": 4,
 "nbformat_minor": 5
}
