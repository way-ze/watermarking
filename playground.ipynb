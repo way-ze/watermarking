{
 "cells": [
  {
   "cell_type": "code",
   "execution_count": 1,
   "id": "52134bc0-3ee8-42fc-80d9-575bf905a97c",
   "metadata": {},
   "outputs": [
    {
     "name": "stderr",
     "output_type": "stream",
     "text": [
      "/Users/wayne/miniconda3/envs/lm-watermarking1/lib/python3.11/site-packages/tqdm/auto.py:21: TqdmWarning: IProgress not found. Please update jupyter and ipywidgets. See https://ipywidgets.readthedocs.io/en/stable/user_install.html\n",
      "  from .autonotebook import tqdm as notebook_tqdm\n"
     ]
    }
   ],
   "source": [
    "import os\n",
    "import json\n",
    "\n",
    "from argparse import Namespace\n",
    "import matplotlib.pyplot as plt\n",
    "import numpy as np\n",
    "import torch\n",
    "\n",
    "\n",
    "from bigram_estimator import getWordDict, getNgramDict, pLM\n",
    "from generate_watermark import load_model, generate\n",
    "from likelihood_ratio_test import L_Gw"
   ]
  },
  {
   "cell_type": "code",
   "execution_count": 2,
   "id": "68c3f18a-ff99-475d-a8a1-20736c649882",
   "metadata": {},
   "outputs": [],
   "source": [
    "args = Namespace()\n",
    "\n",
    "arg_dict = {\n",
    "    'run_gradio': False, \n",
    "    'demo_public': False,\n",
    "    'model_name_or_path': 'facebook/opt-125m', \n",
    "    # 'model_name_or_path': 'facebook/opt-1.3b', \n",
    "    # 'model_name_or_path': 'facebook/opt-2.7b', \n",
    "    # 'model_name_or_path': 'facebook/opt-6.7b',\n",
    "    # 'model_name_or_path': 'facebook/opt-13b',\n",
    "    # 'load_fp16' : True,\n",
    "    'load_fp16' : False,\n",
    "    'prompt_max_length': None, \n",
    "    'max_new_tokens': 200, \n",
    "    'generation_seed': 123, \n",
    "    'use_sampling': True, \n",
    "    'n_beams': 1, \n",
    "    'sampling_temp': 0.7, \n",
    "    \n",
    "    # 'use_gpu': True, \n",
    "    'use_gpu': False, \n",
    "    'seeding_scheme': 'simple_1', \n",
    "    'gamma': 0.25, \n",
    "    'delta': 2.0, \n",
    "    'normalizers': '', \n",
    "    'ignore_repeated_bigrams': False, \n",
    "    'detection_z_threshold': 4.0, \n",
    "    'select_green_tokens': True,\n",
    "    'skip_model_load': False,\n",
    "    'seed_separately': True,\n",
    "}\n",
    "\n",
    "args.__dict__.update(arg_dict)\n",
    "\n",
    "args.is_seq2seq_model = any([(model_type in args.model_name_or_path) for model_type in [\"t5\",\"T0\"]])\n",
    "args.is_decoder_only_model = any([(model_type in args.model_name_or_path) for model_type in [\"gpt\",\"opt\",\"bloom\"]])\n"
   ]
  },
  {
   "cell_type": "code",
   "execution_count": 3,
   "id": "16b7dcd8",
   "metadata": {},
   "outputs": [],
   "source": [
    "model, tokenizer, device = load_model(args)"
   ]
  },
  {
   "cell_type": "code",
   "execution_count": 4,
   "id": "f9f9f94c",
   "metadata": {},
   "outputs": [
    {
     "name": "stdout",
     "output_type": "stream",
     "text": [
      "GPT2TokenizerFast(name_or_path='facebook/opt-125m', vocab_size=50265, model_max_length=1000000000000000019884624838656, is_fast=True, padding_side='right', truncation_side='right', special_tokens={'bos_token': AddedToken(\"</s>\", rstrip=False, lstrip=False, single_word=False, normalized=True), 'eos_token': AddedToken(\"</s>\", rstrip=False, lstrip=False, single_word=False, normalized=True), 'unk_token': AddedToken(\"</s>\", rstrip=False, lstrip=False, single_word=False, normalized=True), 'pad_token': AddedToken(\"<pad>\", rstrip=False, lstrip=False, single_word=False, normalized=True)}, clean_up_tokenization_spaces=True)\n"
     ]
    }
   ],
   "source": [
    "print(tokenizer)"
   ]
  },
  {
   "cell_type": "code",
   "execution_count": 5,
   "id": "6edc8887-d4a6-4a3e-82e6-454e2ea21c94",
   "metadata": {},
   "outputs": [
    {
     "name": "stdout",
     "output_type": "stream",
     "text": [
      "Generating with Namespace(run_gradio=False, demo_public=False, model_name_or_path='facebook/opt-125m', load_fp16=False, prompt_max_length=None, max_new_tokens=200, generation_seed=123, use_sampling=True, n_beams=1, sampling_temp=0.7, use_gpu=False, seeding_scheme='simple_1', gamma=0.25, delta=2.0, normalizers='', ignore_repeated_bigrams=False, detection_z_threshold=4.0, select_green_tokens=True, skip_model_load=False, seed_separately=True, is_seq2seq_model=False, is_decoder_only_model=True)\n"
     ]
    }
   ],
   "source": [
    "times = 1 #1000\n",
    "tokd_input, watermark_processor, output, corpus_without_watermark, corpus_with_watermark, _ = generate(\"\",\n",
    "                                                                    args,\n",
    "                                                                    model=model,\n",
    "                                                                    device=device,\n",
    "                                                                    tokenizer=tokenizer,\n",
    "                                                                    times=times)"
   ]
  },
  {
   "cell_type": "markdown",
   "id": "168a5e84",
   "metadata": {},
   "source": [
    "To load whole corpora. Only use when analysing over larger corpora"
   ]
  },
  {
   "cell_type": "code",
   "execution_count": null,
   "id": "4de07fcd",
   "metadata": {},
   "outputs": [],
   "source": [
    "# path_watermarked = '/data/corpora_with_watermark/'\n",
    "# json_file_names = [filename for filename in os.listdir(path_watermarked) if filename.endswith('.json')]\n",
    "# # print(json_file_names)\n",
    "# corpus_with_watermark = []\n",
    "# for json_file_name in json_file_names:\n",
    "#     with open(os.path.join(path_watermarked, json_file_name)) as json_file:\n",
    "#         foo = json.load(json_file)\n",
    "#     corpus_with_watermark += foo\n",
    "\n",
    "# path_nonwatermarked = '/data/corpora_without_watermark/'\n",
    "# json_file_names = [filename for filename in os.listdir(path_nonwatermarked) if filename.endswith('.json')]\n",
    "# corpus_without_watermark = []\n",
    "# for json_file_name in json_file_names:\n",
    "#     with open(os.path.join(path_nonwatermarked, json_file_name)) as json_file:\n",
    "#         foo = json.load(json_file)\n",
    "#     corpus_without_watermark += foo"
   ]
  },
  {
   "cell_type": "code",
   "execution_count": 7,
   "id": "5d3a9494-7e5d-42eb-9007-db081e577185",
   "metadata": {},
   "outputs": [],
   "source": [
    "# word_dict_w = getWordDict(corpus_with_watermark, tokenizer)\n",
    "# n_gram_dict_w = getNgramDict(corpus_with_watermark, tokenizer)\n",
    "\n",
    "# word_dict_nw = getWordDict(corpus_without_watermark, tokenizer)\n",
    "# n_gram_dict_nw = getNgramDict(corpus_without_watermark, tokenizer)"
   ]
  },
  {
   "attachments": {},
   "cell_type": "markdown",
   "id": "c75d85d9",
   "metadata": {},
   "source": [
    "## Computing $\\sup_{\\theta \\in \\Theta} L(\\theta)$"
   ]
  },
  {
   "cell_type": "code",
   "execution_count": 59,
   "id": "fdd5143c",
   "metadata": {},
   "outputs": [],
   "source": [
    "# delta MUST BE A SCALAR!!!!\n",
    "\n",
    "\n",
    "def L_Gw(delta, w, corpus, watermark_processor, tokenizer, model):\n",
    "    expdelta = torch.exp(delta)\n",
    "    greenlist_w, redlist_w = watermark_processor._get_greenlist_ids(torch.tensor(tokenizer.encode(w)), get_redlist=True)\n",
    "    greenlist_w = tokenizer.convert_ids_to_tokens(greenlist_w)\n",
    "    redlist_w = tokenizer.convert_ids_to_tokens(redlist_w)\n",
    "\n",
    "    words_with_offsets = tokenizer.backend_tokenizer.pre_tokenizer.pre_tokenize_str(corpus)\n",
    "    tokenized_corpus = list(zip(*words_with_offsets))[0]\n",
    "    \n",
    "    corpus_t = tokenizer.encode(corpus, add_special_tokens=False)\n",
    "\n",
    "    with torch.inference_mode():\n",
    "        output = model(torch.tensor([corpus_t]))\n",
    "    soft_logits = torch.softmax(output.logits[0], dim=1)\n",
    "\n",
    "    green = torch.zeros(output.logits.size(1))\n",
    "    red = torch.zeros(output.logits.size(1))\n",
    "\n",
    "    for wdash in greenlist_w:\n",
    "        green += pLM(wdash, tokenizer, soft_logits)\n",
    "\n",
    "    for wdash in redlist_w:\n",
    "        red += pLM(wdash, tokenizer, soft_logits)\n",
    "\n",
    "    deltas = torch.zeros(output.logits.size(1))\n",
    "    for i in range(output.logits.size(1)):\n",
    "        if tokenized_corpus[i] in greenlist_w:\n",
    "            deltas[i] = deltas[i] + delta\n",
    "\n",
    "    L = torch.sum(deltas - torch.log(expdelta * green + red))\n",
    "    return L"
   ]
  },
  {
   "cell_type": "code",
   "execution_count": 73,
   "id": "de544e30",
   "metadata": {},
   "outputs": [
    {
     "data": {
      "text/plain": [
       "'\"I don\\'t know anything about music\"'"
      ]
     },
     "execution_count": 73,
     "metadata": {},
     "output_type": "execute_result"
    }
   ],
   "source": [
    "corpus_without_watermark[0].split(\"   \")[2]"
   ]
  },
  {
   "cell_type": "code",
   "execution_count": null,
   "id": "26ef8480",
   "metadata": {},
   "outputs": [],
   "source": []
  },
  {
   "cell_type": "code",
   "execution_count": 75,
   "id": "d92226ab",
   "metadata": {},
   "outputs": [
    {
     "data": {
      "text/plain": [
       "tensor([ 5.1911e-04, -2.7738e-02, -5.7575e-02, -8.9007e-02, -1.2205e-01,\n",
       "        -1.5671e-01, -1.9300e-01, -2.3095e-01, -2.7055e-01, -3.1183e-01,\n",
       "        -3.5480e-01, -3.9946e-01, -4.4584e-01, -4.9394e-01, -5.4377e-01,\n",
       "        -5.9535e-01, -6.4869e-01, -7.0380e-01, -7.6070e-01, -8.1938e-01,\n",
       "        -8.7987e-01, -9.4217e-01, -1.0063e+00, -1.0723e+00, -1.1401e+00,\n",
       "        -1.2097e+00, -1.2813e+00, -1.3547e+00, -1.4299e+00, -1.5071e+00,\n",
       "        -1.5862e+00, -1.6671e+00, -1.7500e+00, -1.8349e+00, -1.9216e+00,\n",
       "        -2.0103e+00, -2.1009e+00, -2.1935e+00, -2.2880e+00, -2.3845e+00,\n",
       "        -2.4830e+00, -2.5834e+00, -2.6858e+00, -2.7902e+00, -2.8966e+00,\n",
       "        -3.0050e+00, -3.1154e+00, -3.2278e+00, -3.3422e+00, -3.4586e+00])"
      ]
     },
     "execution_count": 75,
     "metadata": {},
     "output_type": "execute_result"
    }
   ],
   "source": [
    "deltaarr = torch.linspace(0, 1, 50)\n",
    "# print(deltaarr.size(0))\n",
    "w = 'Ġup'\n",
    "#sentence = \"The quick brown fox jumps over the lazy dog\"\n",
    "sentences = corpus_without_watermark[0].split(\"   \")\n",
    "\n",
    "Larr = torch.zeros(deltaarr.size(0))\n",
    "for j in range(len(sentences)):\n",
    "    for i in range(deltaarr.size(0)):\n",
    "        #Larr = L_Gw(delta, w, sentence, watermark_processor, tokenizer, model)\n",
    "        Larr[i] = L_Gw(deltaarr[i], w, sentences[j], watermark_processor, tokenizer, model)\n",
    "Larr"
   ]
  },
  {
   "cell_type": "code",
   "execution_count": 76,
   "id": "b4d2b316",
   "metadata": {},
   "outputs": [
    {
     "data": {
      "image/png": "[encoded data removed]",
      "text/plain": [
       "<Figure size 640x480 with 1 Axes>"
      ]
     },
     "metadata": {},
     "output_type": "display_data"
    }
   ],
   "source": [
    "plt.plot(deltaarr, Larr)\n",
    "plt.xlabel(\"delta\")\n",
    "plt.ylabel(\"L(G_w, delta, \\'up\\')\")\n",
    "plt.show()"
   ]
  },
  {
   "cell_type": "code",
   "execution_count": null,
   "id": "fca39364",
   "metadata": {},
   "outputs": [],
   "source": []
  },
  {
   "cell_type": "code",
   "execution_count": null,
   "id": "d66680c9",
   "metadata": {},
   "outputs": [],
   "source": []
  },
  {
   "cell_type": "code",
   "execution_count": 93,
   "id": "fbeb71f7",
   "metadata": {},
   "outputs": [
    {
     "data": {
      "text/plain": [
       "tensor([0.2482, 0.1642, 0.2240, 0.2520, 0.1952, 0.2380, 0.2122, 0.1760, 0.0852])"
      ]
     },
     "execution_count": 93,
     "metadata": {},
     "output_type": "execute_result"
    }
   ],
   "source": [
    "green"
   ]
  },
  {
   "cell_type": "code",
   "execution_count": 11,
   "id": "753fbff9",
   "metadata": {},
   "outputs": [],
   "source": [
    "\n",
    "def pLM(word1, tokenizer, soft_logits):\n",
    "    # word 1 and word 2 can also be whole sentences, expandable.\n",
    "    word1tok = tokenizer.convert_tokens_to_ids(word1)\n",
    "    prob = soft_logits[:,word1tok]\n",
    "    return prob"
   ]
  },
  {
   "cell_type": "code",
   "execution_count": 103,
   "id": "7da76cfd",
   "metadata": {},
   "outputs": [
    {
     "data": {
      "text/plain": [
       "tensor(-0.0057)"
      ]
     },
     "execution_count": 103,
     "metadata": {},
     "output_type": "execute_result"
    }
   ],
   "source": [
    "L = torch.sum(deltas - torch.log(expdelta * green + red))\n",
    "L"
   ]
  },
  {
   "cell_type": "code",
   "execution_count": null,
   "id": "3e32fa0a",
   "metadata": {},
   "outputs": [],
   "source": [
    "\n",
    "# for word in word_dict.keys():\n",
    "#     greensum = 0 \n",
    "#     redsum = 0\n",
    "#     word2tok = tokenizer.convert_tokens_to_ids(word)\n",
    "#     with torch.inference_mode():\n",
    "#         output = model(torch.tensor([[word2tok]]))\n",
    "#     soft_next_token_logits = torch.softmax(output.logits[0, -1, :], -1) \n",
    "    \n",
    "#     for wdash in greenlist_w:\n",
    "#         greensum += pLM(wdash, tokenizer, soft_next_token_logits)\n",
    "\n",
    "#     for wdash in redlist_w:\n",
    "#         redsum += pLM(wdash, tokenizer, soft_next_token_logits)\n",
    "    \n",
    "#     Lgrprod *= greensum * expdelta + redsum\n",
    "#     if w in greenlist_w:\n",
    "#         Ldelta += delta\n",
    "\n",
    "# L = Ldelta - torch.log(Lgrprod)\n",
    "# print(L)"
   ]
  },
  {
   "cell_type": "code",
   "execution_count": 62,
   "id": "cd3f2ecb",
   "metadata": {},
   "outputs": [],
   "source": [
    "deltaarr = torch.arange(0, 1, 0.01)\n",
    "# deltaarr\n",
    "Larr = L_Gw(deltaarr, 'Ġup', word_dict_nw, watermark_processor, tokenizer, model)\n"
   ]
  },
  {
   "cell_type": "code",
   "execution_count": 63,
   "id": "b8ecf6f6",
   "metadata": {},
   "outputs": [
    {
     "data": {
      "image/png": "[encoded data removed]",
      "text/plain": [
       "<Figure size 640x480 with 1 Axes>"
      ]
     },
     "metadata": {},
     "output_type": "display_data"
    }
   ],
   "source": [
    "plt.plot(deltaarr, Larr)\n",
    "plt.xlabel(\"delta\")\n",
    "plt.ylabel(\"L(G_w, delta, \\'up\\')\")\n",
    "plt.show()"
   ]
  },
  {
   "cell_type": "code",
   "execution_count": 45,
   "id": "29d1ecac",
   "metadata": {},
   "outputs": [
    {
     "name": "stdout",
     "output_type": "stream",
     "text": [
      "tensor([[  113,  1711,    21,   269,  3035,   113,  1437,  1437,    22, 14783,\n",
      "            38,   218,    75,   216,   932,    59,   930,     8,    38,  3996,\n",
      "             5,   569,   113,  1437,  1437,    22,   100,   218,    75,   216,\n",
      "           932,    59,   930,   113,  1437,  1437,    22,  2847,    99,    32,\n",
      "            47,   608,    19,   110,  1730,  1917,  1437,  1437,    22,   100,\n",
      "           437,  6908,   120,   106,     7,  3836,   113, 50118,   243,    18,\n",
      "            67,     5,   275,  2214,    11,     5,  1445,  2642,   328,     2]])\n"
     ]
    }
   ],
   "source": [
    "## L gradient descent\n",
    "\n",
    "optim = torch.optim.SGD()"
   ]
  },
  {
   "cell_type": "code",
   "execution_count": null,
   "id": "0f16a7ac",
   "metadata": {},
   "outputs": [],
   "source": []
  }
 ],
 "metadata": {
  "kernelspec": {
   "display_name": "Python 3 (ipykernel)",
   "language": "python",
   "name": "python3"
  },
  "language_info": {
   "codemirror_mode": {
    "name": "ipython",
    "version": 3
   },
   "file_extension": ".py",
   "mimetype": "text/x-python",
   "name": "python",
   "nbconvert_exporter": "python",
   "pygments_lexer": "ipython3",
   "version": "3.11.4"
  }
 },
 "nbformat": 4,
 "nbformat_minor": 5
}
