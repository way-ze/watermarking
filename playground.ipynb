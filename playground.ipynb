{
 "cells": [
  {
   "cell_type": "code",
   "execution_count": 1,
   "id": "52134bc0-3ee8-42fc-80d9-575bf905a97c",
   "metadata": {},
   "outputs": [
    {
     "name": "stderr",
     "output_type": "stream",
     "text": [
      "/Users/wayne/miniconda3/envs/lm-watermarking1/lib/python3.11/site-packages/tqdm/auto.py:21: TqdmWarning: IProgress not found. Please update jupyter and ipywidgets. See https://ipywidgets.readthedocs.io/en/stable/user_install.html\n",
      "  from .autonotebook import tqdm as notebook_tqdm\n"
     ]
    }
   ],
   "source": [
    "import os\n",
    "import json\n",
    "\n",
    "from argparse import Namespace\n",
    "import matplotlib.pyplot as plt\n",
    "import numpy as np\n",
    "import torch\n",
    "\n",
    "\n",
    "from bigram_estimator import getWordDict, getNgramDict, pHat\n",
    "from generate_watermark import load_model, generate\n",
    "from likelihood_ratio_test import L_Gw"
   ]
  },
  {
   "cell_type": "code",
   "execution_count": 2,
   "id": "68c3f18a-ff99-475d-a8a1-20736c649882",
   "metadata": {},
   "outputs": [],
   "source": [
    "args = Namespace()\n",
    "\n",
    "arg_dict = {\n",
    "    'run_gradio': False, \n",
    "    'demo_public': False,\n",
    "    'model_name_or_path': 'facebook/opt-125m', \n",
    "    # 'model_name_or_path': 'facebook/opt-1.3b', \n",
    "    # 'model_name_or_path': 'facebook/opt-2.7b', \n",
    "    # 'model_name_or_path': 'facebook/opt-6.7b',\n",
    "    # 'model_name_or_path': 'facebook/opt-13b',\n",
    "    # 'load_fp16' : True,\n",
    "    'load_fp16' : False,\n",
    "    'prompt_max_length': None, \n",
    "    'max_new_tokens': 200, \n",
    "    'generation_seed': 123, \n",
    "    'use_sampling': True, \n",
    "    'n_beams': 1, \n",
    "    'sampling_temp': 0.7, \n",
    "    \n",
    "    # 'use_gpu': True, \n",
    "    'use_gpu': False, \n",
    "    'seeding_scheme': 'simple_1', \n",
    "    'gamma': 0.25, \n",
    "    'delta': 2.0, \n",
    "    'normalizers': '', \n",
    "    'ignore_repeated_bigrams': False, \n",
    "    'detection_z_threshold': 4.0, \n",
    "    'select_green_tokens': True,\n",
    "    'skip_model_load': False,\n",
    "    'seed_separately': True,\n",
    "}\n",
    "\n",
    "args.__dict__.update(arg_dict)\n",
    "\n",
    "args.is_seq2seq_model = any([(model_type in args.model_name_or_path) for model_type in [\"t5\",\"T0\"]])\n",
    "args.is_decoder_only_model = any([(model_type in args.model_name_or_path) for model_type in [\"gpt\",\"opt\",\"bloom\"]])\n"
   ]
  },
  {
   "cell_type": "code",
   "execution_count": 3,
   "id": "e9ab0e5a-3ebf-492a-8dc0-0594ebf59e06",
   "metadata": {},
   "outputs": [],
   "source": [
    "model, tokenizer, device = load_model(args)\n"
   ]
  },
  {
   "cell_type": "code",
   "execution_count": 4,
   "id": "6edc8887-d4a6-4a3e-82e6-454e2ea21c94",
   "metadata": {},
   "outputs": [
    {
     "name": "stdout",
     "output_type": "stream",
     "text": [
      "Generating with Namespace(run_gradio=False, demo_public=False, model_name_or_path='facebook/opt-125m', load_fp16=False, prompt_max_length=None, max_new_tokens=200, generation_seed=123, use_sampling=True, n_beams=1, sampling_temp=0.7, use_gpu=False, seeding_scheme='simple_1', gamma=0.25, delta=2.0, normalizers='', ignore_repeated_bigrams=False, detection_z_threshold=4.0, select_green_tokens=True, skip_model_load=False, seed_separately=True, is_seq2seq_model=False, is_decoder_only_model=True)\n"
     ]
    }
   ],
   "source": [
    "times = 2 #1000\n",
    "tokd_input, watermark_processor, output, corpus_without_watermark, corpus_with_watermark, _ = generate(\"\",\n",
    "                                                                    args,\n",
    "                                                                    model=model,\n",
    "                                                                    device=device,\n",
    "                                                                    tokenizer=tokenizer,\n",
    "                                                                    times=times)"
   ]
  },
  {
   "cell_type": "markdown",
   "id": "168a5e84",
   "metadata": {},
   "source": [
    "To load whole corpora. Only use when analysing over larger corpora"
   ]
  },
  {
   "cell_type": "code",
   "execution_count": 52,
   "id": "4de07fcd",
   "metadata": {},
   "outputs": [],
   "source": [
    "path_watermarked = '/data/corpora_with_watermark/'\n",
    "json_file_names = [filename for filename in os.listdir(path_watermarked) if filename.endswith('.json')]\n",
    "# print(json_file_names)\n",
    "corpus_with_watermark = []\n",
    "for json_file_name in json_file_names:\n",
    "    with open(os.path.join(path_watermarked, json_file_name)) as json_file:\n",
    "        foo = json.load(json_file)\n",
    "    corpus_with_watermark += foo"
   ]
  },
  {
   "cell_type": "code",
   "execution_count": 53,
   "id": "89ebb5d3",
   "metadata": {},
   "outputs": [],
   "source": [
    "path_nonwatermarked = '/data/corpora_without_watermark/'\n",
    "json_file_names = [filename for filename in os.listdir(path_nonwatermarked) if filename.endswith('.json')]\n",
    "corpus_without_watermark = []\n",
    "for json_file_name in json_file_names:\n",
    "    with open(os.path.join(path_nonwatermarked, json_file_name)) as json_file:\n",
    "        foo = json.load(json_file)\n",
    "    corpus_without_watermark += foo"
   ]
  },
  {
   "cell_type": "code",
   "execution_count": 5,
   "id": "5d3a9494-7e5d-42eb-9007-db081e577185",
   "metadata": {},
   "outputs": [],
   "source": [
    "word_dict_w = getWordDict(corpus_with_watermark, tokenizer)\n",
    "n_gram_dict_w = getNgramDict(corpus_with_watermark, tokenizer)\n",
    "\n",
    "word_dict_nw = getWordDict(corpus_without_watermark, tokenizer)\n",
    "n_gram_dict_nw = getNgramDict(corpus_without_watermark, tokenizer)"
   ]
  },
  {
   "cell_type": "code",
   "execution_count": 6,
   "id": "2b618617",
   "metadata": {},
   "outputs": [
    {
     "data": {
      "text/plain": [
       "0.2727272727272727"
      ]
     },
     "execution_count": 6,
     "metadata": {},
     "output_type": "execute_result"
    }
   ],
   "source": [
    "pHat('Ġgot', 'Ġthe', word_dict_w, n_gram_dict_w)\n",
    "# pHat('The', 'Ġfact', word_dict_nw, n_gram_dict_nw)"
   ]
  },
  {
   "attachments": {},
   "cell_type": "markdown",
   "id": "c75d85d9",
   "metadata": {},
   "source": [
    "## Computing $\\sup_{\\theta \\in \\Theta} L(\\theta)$"
   ]
  },
  {
   "cell_type": "code",
   "execution_count": 7,
   "id": "cd3f2ecb",
   "metadata": {},
   "outputs": [],
   "source": [
    "#greenlist_w = watermark_processor._get_greenlist_ids(torch.tensor(tokenizer.encode(\"hello\")).to(device))\n",
    "#int(tokenizer.vocab.values()\n",
    "\n",
    "# path_nonwatermarked = '/data/corpora_without_watermark/'\n",
    "# with open(os.path.join(path_nonwatermarked, 'corpus_without_watermark.json')) as json_file:\n",
    "#    corpus_without_watermark = json.load(json_file)\n",
    "\n",
    "# word_dict_nw = getWordDict(corpus_without_watermark)\n",
    "# n_gram_dict_nw = getNgramDict(corpus_without_watermark)\n",
    "\n",
    "\n",
    "deltaarr = np.arange(0, 1, 0.1)\n",
    "# deltaarr\n",
    "Larr, redsum = L_Gw(deltaarr, 'Ġup', word_dict_nw, n_gram_dict_nw, watermark_processor, tokenizer)\n",
    "#print(redsum)\n",
    "# plt.plot(deltaarr, Larr)"
   ]
  },
  {
   "cell_type": "code",
   "execution_count": 8,
   "id": "b606fe59",
   "metadata": {},
   "outputs": [
    {
     "data": {
      "text/plain": [
       "array([  9.48537133,   6.53878539,   3.58473688,   0.62324588,\n",
       "        -2.34563126,  -5.32180295,  -8.30514415, -11.29549868,\n",
       "       -14.29268206, -17.29648471])"
      ]
     },
     "execution_count": 8,
     "metadata": {},
     "output_type": "execute_result"
    }
   ],
   "source": [
    "Larr"
   ]
  },
  {
   "cell_type": "code",
   "execution_count": 9,
   "id": "b8ecf6f6",
   "metadata": {},
   "outputs": [
    {
     "data": {
      "image/png": "[encoded data removed]",
      "text/plain": [
       "<Figure size 640x480 with 1 Axes>"
      ]
     },
     "metadata": {},
     "output_type": "display_data"
    }
   ],
   "source": [
    "# Larr = L(deltaarr, 'Ġup', word_dict_nw, n_gram_dict_nw, watermark_processor)\n",
    "plt.plot(deltaarr, Larr)\n",
    "plt.xlabel(\"delta\")\n",
    "plt.ylabel(\"L(G_w, delta, \\'up\\')\")\n",
    "plt.show()"
   ]
  },
  {
   "cell_type": "code",
   "execution_count": 45,
   "id": "29d1ecac",
   "metadata": {},
   "outputs": [
    {
     "name": "stdout",
     "output_type": "stream",
     "text": [
      "tensor([[  113,  1711,    21,   269,  3035,   113,  1437,  1437,    22, 14783,\n",
      "            38,   218,    75,   216,   932,    59,   930,     8,    38,  3996,\n",
      "             5,   569,   113,  1437,  1437,    22,   100,   218,    75,   216,\n",
      "           932,    59,   930,   113,  1437,  1437,    22,  2847,    99,    32,\n",
      "            47,   608,    19,   110,  1730,  1917,  1437,  1437,    22,   100,\n",
      "           437,  6908,   120,   106,     7,  3836,   113, 50118,   243,    18,\n",
      "            67,     5,   275,  2214,    11,     5,  1445,  2642,   328,     2]])\n"
     ]
    }
   ],
   "source": [
    "## L gradient descent\n",
    "\n",
    "optim = torch.optim.SGD()"
   ]
  }
 ],
 "metadata": {
  "kernelspec": {
   "display_name": "Python 3 (ipykernel)",
   "language": "python",
   "name": "python3"
  },
  "language_info": {
   "codemirror_mode": {
    "name": "ipython",
    "version": 3
   },
   "file_extension": ".py",
   "mimetype": "text/x-python",
   "name": "python",
   "nbconvert_exporter": "python",
   "pygments_lexer": "ipython3",
   "version": "3.11.4"
  }
 },
 "nbformat": 4,
 "nbformat_minor": 5
}
