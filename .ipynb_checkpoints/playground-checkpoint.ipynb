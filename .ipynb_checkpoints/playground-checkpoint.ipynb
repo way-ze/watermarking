{
 "cells": [
  {
   "cell_type": "code",
   "execution_count": 2,
   "id": "52134bc0-3ee8-42fc-80d9-575bf905a97c",
   "metadata": {},
   "outputs": [
    {
     "name": "stderr",
     "output_type": "stream",
     "text": [
      "2023-07-23 14:49:50.506135: I tensorflow/core/util/util.cc:169] oneDNN custom operations are on. You may see slightly different numerical results due to floating-point round-off errors from different computation orders. To turn them off, set the environment variable `TF_ENABLE_ONEDNN_OPTS=0`.\n"
     ]
    }
   ],
   "source": [
    "import os\n",
    "import json\n",
    "\n",
    "from argparse import Namespace\n",
    "import matplotlib.pyplot as plt\n",
    "import numpy as np\n",
    "import torch\n",
    "\n",
    "from bigram_estimator import getWordDict, getNgramDict, pLM\n",
    "from generate_watermark import load_model, generate\n",
    "from likelihood_ratio_test import L_Gw"
   ]
  },
  {
   "cell_type": "code",
   "execution_count": 16,
   "id": "68c3f18a-ff99-475d-a8a1-20736c649882",
   "metadata": {},
   "outputs": [],
   "source": [
    "args = Namespace()\n",
    "\n",
    "arg_dict = {\n",
    "    'run_gradio': False, \n",
    "    'demo_public': False,\n",
    "    'model_name_or_path': 'facebook/opt-125m', \n",
    "    # 'model_name_or_path': 'facebook/opt-1.3b', \n",
    "    # 'model_name_or_path': 'facebook/opt-2.7b', \n",
    "    # 'model_name_or_path': 'facebook/opt-6.7b',\n",
    "    # 'model_name_or_path': 'facebook/opt-13b',\n",
    "    # 'load_fp16' : True,\n",
    "    'load_fp16' : False,\n",
    "    'prompt_max_length': None, \n",
    "    'max_new_tokens': 200, \n",
    "    'generation_seed': 123, \n",
    "    'use_sampling': True, \n",
    "    'n_beams': 1, \n",
    "    'sampling_temp': 0.7, \n",
    "    \n",
    "    'use_gpu': True, \n",
    "    # 'use_gpu': False, \n",
    "    'seeding_scheme': 'simple_1', \n",
    "    'gamma': 0.25, \n",
    "    'delta': 2.0, \n",
    "    'normalizers': '', \n",
    "    'ignore_repeated_bigrams': False, \n",
    "    'detection_z_threshold': 4.0, \n",
    "    'select_green_tokens': True,\n",
    "    'skip_model_load': False,\n",
    "    'seed_separately': True,\n",
    "}\n",
    "\n",
    "args.__dict__.update(arg_dict)\n",
    "\n",
    "args.is_seq2seq_model = any([(model_type in args.model_name_or_path) for model_type in [\"t5\",\"T0\"]])\n",
    "args.is_decoder_only_model = any([(model_type in args.model_name_or_path) for model_type in [\"gpt\",\"opt\",\"bloom\"]])\n"
   ]
  },
  {
   "cell_type": "code",
   "execution_count": 17,
   "id": "0b705da1-5c66-4059-bdae-ef688edeeb62",
   "metadata": {},
   "outputs": [],
   "source": [
    "from transformers import (AutoTokenizer,\n",
    "                          AutoModelForSeq2SeqLM,\n",
    "                          AutoModelForCausalLM,\n",
    "                          OPTForCausalLM,\n",
    "                          LogitsProcessorList)\n",
    "\n",
    "def load_model_2(args):\n",
    "    \"\"\"Load and return the model and tokenizer\"\"\"\n",
    "\n",
    "    args.is_seq2seq_model = any([(model_type in args.model_name_or_path) for model_type in [\"t5\",\"T0\"]])\n",
    "    args.is_decoder_only_model = any([(model_type in args.model_name_or_path) for model_type in [\"gpt\",\"opt\",\"bloom\"]])\n",
    "    if args.is_seq2seq_model:\n",
    "        model = AutoModelForSeq2SeqLM.from_pretrained(args.model_name_or_path)\n",
    "    elif args.is_decoder_only_model:\n",
    "        if args.load_fp16:\n",
    "            model = AutoModelForCausalLM.from_pretrained(args.model_name_or_path,torch_dtype=torch.float16, device_map='auto')\n",
    "        else:\n",
    "            model = AutoModelForCausalLM.from_pretrained(args.model_name_or_path)\n",
    "    else:\n",
    "        raise ValueError(f\"Unknown model type: {args.model_name_or_path}\")\n",
    "\n",
    "    if args.use_gpu:\n",
    "        device = \"cuda\" if torch.cuda.is_available() else \"cpu\"\n",
    "        if args.load_fp16: \n",
    "            pass\n",
    "        else: \n",
    "            model = model.to(device)\n",
    "    else:\n",
    "        device = \"cpu\"\n",
    "    model.eval()\n",
    "    \n",
    "    tokenizer = AutoTokenizer.from_pretrained(args.model_name_or_path, use_fast=True)\n",
    "\n",
    "    # tokenizer = GPT2TokenizerFast.from_pretrained(args.model_name_or_path, use_fast=True)\n",
    "    # tokenizer = AutoTokenizer.from_pretrained(\"facebook/opt-350m\")\n",
    "    print(tokenizer)\n",
    "    return model, tokenizer, device"
   ]
  },
  {
   "cell_type": "code",
   "execution_count": 18,
   "id": "16b7dcd8",
   "metadata": {},
   "outputs": [
    {
     "name": "stderr",
     "output_type": "stream",
     "text": [
      "Some weights of the model checkpoint at facebook/opt-125m were not used when initializing OPTForCausalLM: ['model.decoder.final_layer_norm.weight', 'model.decoder.final_layer_norm.bias']\n",
      "- This IS expected if you are initializing OPTForCausalLM from the checkpoint of a model trained on another task or with another architecture (e.g. initializing a BertForSequenceClassification model from a BertForPreTraining model).\n",
      "- This IS NOT expected if you are initializing OPTForCausalLM from the checkpoint of a model that you expect to be exactly identical (initializing a BertForSequenceClassification model from a BertForSequenceClassification model).\n"
     ]
    },
    {
     "name": "stdout",
     "output_type": "stream",
     "text": [
      "PreTrainedTokenizer(name_or_path='facebook/opt-125m', vocab_size=50265, model_max_len=1000000000000000019884624838656, is_fast=False, padding_side='right', truncation_side='right', special_tokens={'bos_token': AddedToken(\"</s>\", rstrip=False, lstrip=False, single_word=False, normalized=True), 'eos_token': AddedToken(\"</s>\", rstrip=False, lstrip=False, single_word=False, normalized=True), 'unk_token': AddedToken(\"</s>\", rstrip=False, lstrip=False, single_word=False, normalized=True), 'pad_token': AddedToken(\"<pad>\", rstrip=False, lstrip=False, single_word=False, normalized=True)})\n"
     ]
    }
   ],
   "source": [
    "model, tokenizer, device = load_model_2(args)"
   ]
  },
  {
   "cell_type": "code",
   "execution_count": 8,
   "id": "ed18bad5",
   "metadata": {},
   "outputs": [
    {
     "ename": "AttributeError",
     "evalue": "'GPT2Tokenizer' object has no attribute 'backend_tokenizer'",
     "output_type": "error",
     "traceback": [
      "\u001b[0;31m---------------------------------------------------------------------------\u001b[0m",
      "\u001b[0;31mAttributeError\u001b[0m                            Traceback (most recent call last)",
      "Cell \u001b[0;32mIn[8], line 1\u001b[0m\n\u001b[0;32m----> 1\u001b[0m \u001b[43mtokenizer\u001b[49m\u001b[38;5;241;43m.\u001b[39;49m\u001b[43mbackend_tokenizer\u001b[49m\u001b[38;5;241m.\u001b[39mpre_tokenizer\u001b[38;5;241m.\u001b[39mpre_tokenize_str(\u001b[38;5;124m\"\u001b[39m\u001b[38;5;124mhello\u001b[39m\u001b[38;5;124m\"\u001b[39m)\n",
      "\u001b[0;31mAttributeError\u001b[0m: 'GPT2Tokenizer' object has no attribute 'backend_tokenizer'"
     ]
    }
   ],
   "source": [
    "tokenizer.backend_tokenizer.pre_tokenizer.pre_tokenize_str(\"hello\")"
   ]
  },
  {
   "cell_type": "code",
   "execution_count": 5,
   "id": "6edc8887-d4a6-4a3e-82e6-454e2ea21c94",
   "metadata": {},
   "outputs": [
    {
     "name": "stdout",
     "output_type": "stream",
     "text": [
      "Generating with Namespace(run_gradio=False, demo_public=False, model_name_or_path='facebook/opt-125m', load_fp16=False, prompt_max_length=None, max_new_tokens=200, generation_seed=123, use_sampling=True, n_beams=1, sampling_temp=0.7, use_gpu=False, seeding_scheme='simple_1', gamma=0.25, delta=2.0, normalizers='', ignore_repeated_bigrams=False, detection_z_threshold=4.0, select_green_tokens=True, skip_model_load=False, seed_separately=True, is_seq2seq_model=False, is_decoder_only_model=True)\n"
     ]
    }
   ],
   "source": [
    "times = 1 #1000\n",
    "tokd_input, watermark_processor, output, corpus_without_watermark, corpus_with_watermark, _ = generate(\"\",\n",
    "                                                                    args,\n",
    "                                                                    model=model,\n",
    "                                                                    device=device,\n",
    "                                                                    tokenizer=tokenizer,\n",
    "                                                                    times=times)"
   ]
  },
  {
   "cell_type": "markdown",
   "id": "168a5e84",
   "metadata": {},
   "source": [
    "To load whole corpora. Only use when analysing over larger corpora"
   ]
  },
  {
   "cell_type": "code",
   "execution_count": 5,
   "id": "4de07fcd",
   "metadata": {},
   "outputs": [
    {
     "ename": "FileNotFoundError",
     "evalue": "[Errno 2] No such file or directory: '/data/corpora_with_watermark/'",
     "output_type": "error",
     "traceback": [
      "\u001b[0;31m---------------------------------------------------------------------------\u001b[0m",
      "\u001b[0;31mFileNotFoundError\u001b[0m                         Traceback (most recent call last)",
      "Cell \u001b[0;32mIn[5], line 2\u001b[0m\n\u001b[1;32m      1\u001b[0m path_watermarked \u001b[39m=\u001b[39m \u001b[39m'\u001b[39m\u001b[39m/data/corpora_with_watermark/\u001b[39m\u001b[39m'\u001b[39m\n\u001b[0;32m----> 2\u001b[0m json_file_names \u001b[39m=\u001b[39m [filename \u001b[39mfor\u001b[39;00m filename \u001b[39min\u001b[39;00m os\u001b[39m.\u001b[39mlistdir(path_watermarked) \u001b[39mif\u001b[39;00m filename\u001b[39m.\u001b[39mendswith(\u001b[39m'\u001b[39m\u001b[39m.json\u001b[39m\u001b[39m'\u001b[39m)]\n\u001b[1;32m      3\u001b[0m \u001b[39m# print(json_file_names)\u001b[39;00m\n\u001b[1;32m      4\u001b[0m corpus_with_watermark \u001b[39m=\u001b[39m []\n",
      "\u001b[0;31mFileNotFoundError\u001b[0m: [Errno 2] No such file or directory: '/data/corpora_with_watermark/'"
     ]
    }
   ],
   "source": [
    "path_watermarked = '/data/corpora_with_watermark/'\n",
    "json_file_names = [filename for filename in os.listdir(path_watermarked) if filename.endswith('.json')]\n",
    "# print(json_file_names)\n",
    "corpus_with_watermark = []\n",
    "for json_file_name in json_file_names:\n",
    "    with open(os.path.join(path_watermarked, json_file_name)) as json_file:\n",
    "        foo = json.load(json_file)\n",
    "    corpus_with_watermark += foo"
   ]
  },
  {
   "cell_type": "code",
   "execution_count": 53,
   "id": "89ebb5d3",
   "metadata": {},
   "outputs": [],
   "source": [
    "path_nonwatermarked = '/data/corpora_without_watermark/'\n",
    "json_file_names = [filename for filename in os.listdir(path_nonwatermarked) if filename.endswith('.json')]\n",
    "corpus_without_watermark = []\n",
    "for json_file_name in json_file_names:\n",
    "    with open(os.path.join(path_nonwatermarked, json_file_name)) as json_file:\n",
    "        foo = json.load(json_file)\n",
    "    corpus_without_watermark += foo"
   ]
  },
  {
   "cell_type": "code",
   "execution_count": 6,
   "id": "5d3a9494-7e5d-42eb-9007-db081e577185",
   "metadata": {},
   "outputs": [],
   "source": [
    "word_dict_w = getWordDict(corpus_with_watermark, tokenizer)\n",
    "n_gram_dict_w = getNgramDict(corpus_with_watermark, tokenizer)\n",
    "\n",
    "word_dict_nw = getWordDict(corpus_without_watermark, tokenizer)\n",
    "n_gram_dict_nw = getNgramDict(corpus_without_watermark, tokenizer)"
   ]
  },
  {
   "cell_type": "markdown",
   "id": "c75d85d9",
   "metadata": {},
   "source": [
    "## Computing $\\sup_{\\theta \\in \\Theta} L(\\theta)$"
   ]
  },
  {
   "cell_type": "code",
   "execution_count": 9,
   "id": "e2b76f81",
   "metadata": {},
   "outputs": [],
   "source": [
    "def L_Gw(delta, w, word_dict, watermark_processor, tokenizer, model): \n",
    "    L = 0\n",
    "    greenlist_w, redlist_w = watermark_processor._get_greenlist_ids(torch.tensor(tokenizer.encode(w)), get_redlist=True)\n",
    "    greenlist_w = tokenizer.convert_ids_to_tokens(greenlist_w)\n",
    "    redlist_w = tokenizer.convert_ids_to_tokens(redlist_w)\n",
    "    \n",
    "    for word in list(word_dict.keys())[:20]:\n",
    "        greensum = 0 \n",
    "        redsum = 0\n",
    "        word2tok = tokenizer.convert_tokens_to_ids(word)\n",
    "        with torch.inference_mode():\n",
    "            output = model(torch.tensor([[word2tok]]))\n",
    "        for wdash in greenlist_w:\n",
    "            green = pLM(wdash, word, tokenizer, output)\n",
    "            if green != 0: # prevents underflow\n",
    "                greensum += green\n",
    "\n",
    "        for wdash in redlist_w:\n",
    "            red = pLM(wdash, word, tokenizer, output)\n",
    "            if red != 0:\n",
    "                redsum += red\n",
    "        \n",
    "        if not (greensum == 0 and redsum == 0):\n",
    "            L -= torch.log(torch.exp(delta) * greensum + redsum)\n",
    "        if w in greenlist_w:\n",
    "            L += delta\n",
    "    \n",
    "        print(f\"word = {word}, greensum = {greensum}, redsum = {redsum}, sum = {greensum + redsum}\")\n",
    "\n",
    "    return L, redsum"
   ]
  },
  {
   "cell_type": "code",
   "execution_count": 10,
   "id": "cd3f2ecb",
   "metadata": {},
   "outputs": [
    {
     "name": "stdout",
     "output_type": "stream",
     "text": [
      "word = </, greensum = 0.2250913828611374, redsum = 0.7564595341682434, sum = 0.981550931930542\n",
      "word = s, greensum = 0.2487252652645111, redsum = 0.720172643661499, sum = 0.9688979387283325\n",
      "word = >\", greensum = 0.22455911338329315, redsum = 0.7231696248054504, sum = 0.9477287530899048\n",
      "word = That, greensum = 0.2364736944437027, redsum = 0.6645443439483643, sum = 0.9010180234909058\n",
      "word = Ġwas, greensum = 0.27639561891555786, redsum = 0.7381014227867126, sum = 1.0144970417022705\n",
      "word = Ġreally, greensum = 0.2627614140510559, redsum = 0.722262978553772, sum = 0.9850243926048279\n",
      "word = Ġcool, greensum = 0.2069377303123474, redsum = 0.6739199161529541, sum = 0.8808576464653015\n",
      "word = \", greensum = 0.27123239636421204, redsum = 0.7623304128646851, sum = 1.0335627794265747\n",
      "word = ĠĠ, greensum = 0.16393336653709412, redsum = 0.7822666168212891, sum = 0.9462000131607056\n",
      "word = Ġ\", greensum = 0.2570868134498596, redsum = 0.7623434662818909, sum = 1.0194302797317505\n",
      "word = Yeah, greensum = 0.18965180218219757, redsum = 0.6071007251739502, sum = 0.7967525124549866\n",
      "word = ĠI, greensum = 0.32024258375167847, redsum = 0.751103401184082, sum = 1.0713460445404053\n",
      "word = Ġdon, greensum = 0.12811002135276794, redsum = 0.3856349587440491, sum = 0.5137449502944946\n",
      "word = 't, greensum = 0.2771986722946167, redsum = 0.7053316235542297, sum = 0.9825302958488464\n",
      "word = Ġknow, greensum = 0.264647513628006, redsum = 0.6621594429016113, sum = 0.9268069267272949\n",
      "word = Ġanything, greensum = 0.19853416085243225, redsum = 0.6115312576293945, sum = 0.8100653886795044\n",
      "word = Ġabout, greensum = 0.31271862983703613, redsum = 0.789943516254425, sum = 1.1026620864868164\n",
      "word = Ġmusic, greensum = 0.17949135601520538, redsum = 0.6612324714660645, sum = 0.8407238125801086\n",
      "word = Ġand, greensum = 0.25600841641426086, redsum = 0.7669979333877563, sum = 1.0230063199996948\n",
      "word = Ġwatched, greensum = 0.263245552778244, redsum = 0.6919333338737488, sum = 0.9551788568496704\n"
     ]
    }
   ],
   "source": [
    "#greenlist_w = watermark_processor._get_greenlist_ids(torch.tensor(tokenizer.encode(\"hello\")).to(device))\n",
    "#int(tokenizer.vocab.values()\n",
    "\n",
    "# path_nonwatermarked = '/data/corpora_without_watermark/'\n",
    "# with open(os.path.join(path_nonwatermarked, 'corpus_without_watermark.json')) as json_file:\n",
    "#    corpus_without_watermark = json.load(json_file)\n",
    "\n",
    "# word_dict_nw = getWordDict(corpus_without_watermark)\n",
    "# n_gram_dict_nw = getNgramDict(corpus_without_watermark)\n",
    "\n",
    "\n",
    "deltaarr = torch.arange(0, 1, 0.1)\n",
    "# deltaarr\n",
    "Larr, redsum = L_Gw(deltaarr, 'Ġup', word_dict_nw, watermark_processor, tokenizer, model)\n",
    "# print(redsum)\n",
    "# plt.plot(deltaarr, Larr)"
   ]
  },
  {
   "cell_type": "code",
   "execution_count": 11,
   "id": "b8ecf6f6",
   "metadata": {},
   "outputs": [
    {
     "data": {
      "image/png": "[encoded data removed]",
      "text/plain": [
       "<Figure size 640x480 with 1 Axes>"
      ]
     },
     "metadata": {},
     "output_type": "display_data"
    }
   ],
   "source": [
    "plt.plot(deltaarr, Larr)\n",
    "plt.xlabel(\"delta\")\n",
    "plt.ylabel(\"L(G_w, delta, \\'up\\')\")\n",
    "plt.show()"
   ]
  },
  {
   "cell_type": "code",
   "execution_count": 45,
   "id": "29d1ecac",
   "metadata": {},
   "outputs": [
    {
     "name": "stdout",
     "output_type": "stream",
     "text": [
      "tensor([[  113,  1711,    21,   269,  3035,   113,  1437,  1437,    22, 14783,\n",
      "            38,   218,    75,   216,   932,    59,   930,     8,    38,  3996,\n",
      "             5,   569,   113,  1437,  1437,    22,   100,   218,    75,   216,\n",
      "           932,    59,   930,   113,  1437,  1437,    22,  2847,    99,    32,\n",
      "            47,   608,    19,   110,  1730,  1917,  1437,  1437,    22,   100,\n",
      "           437,  6908,   120,   106,     7,  3836,   113, 50118,   243,    18,\n",
      "            67,     5,   275,  2214,    11,     5,  1445,  2642,   328,     2]])\n"
     ]
    }
   ],
   "source": [
    "## L gradient descent\n",
    "\n",
    "optim = torch.optim.SGD()"
   ]
  }
 ],
 "metadata": {
  "kernelspec": {
   "display_name": "Python 3 (ipykernel)",
   "language": "python",
   "name": "python3"
  },
  "language_info": {
   "codemirror_mode": {
    "name": "ipython",
    "version": 3
   },
   "file_extension": ".py",
   "mimetype": "text/x-python",
   "name": "python",
   "nbconvert_exporter": "python",
   "pygments_lexer": "ipython3",
   "version": "3.10.4"
  }
 },
 "nbformat": 4,
 "nbformat_minor": 5
}
